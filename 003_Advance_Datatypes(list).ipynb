{
  "nbformat": 4,
  "nbformat_minor": 0,
  "metadata": {
    "colab": {
      "provenance": []
    },
    "kernelspec": {
      "name": "python3",
      "display_name": "Python 3"
    },
    "language_info": {
      "name": "python"
    }
  },
  "cells": [
    {
      "cell_type": "code",
      "execution_count": null,
      "metadata": {
        "id": "WJC0ZEwn_x_q"
      },
      "outputs": [],
      "source": [
        "##06-02-2025\n",
        "#Explain about list(5 examples)\n",
        "#Explain about index and slicing(5 examples)\n",
        "\n"
      ]
    },
    {
      "cell_type": "markdown",
      "source": [
        "# List:\n",
        "\n",
        "*   A list in Python is used to keep multiple items together.\n",
        "*   It's a collection that can store different types of data (numbers, words, or even other lists).\n",
        "*   Lists are ordered(the items stay in the same sequence), and they can be changed mutable(add, remove, or modify items)."
      ],
      "metadata": {
        "id": "LDCmZdLCAHrj"
      }
    },
    {
      "cell_type": "code",
      "source": [
        "numbers = [1, 2, 3, 4, 5]\n",
        "print(numbers)\n",
        "\n",
        "colors = [\"red\", \"green\", \"blue\"]\n",
        "print(colors)\n",
        "\n",
        "fruits = [\"apple\", \"banana\", \"cherry\", \"mango\"]\n",
        "print(fruits)\n",
        "\n",
        "person = [\"Alice\", 25, 5.6, True]\n",
        "print(person)\n",
        "\n",
        "price=[(\"tomato\",15.5),(\"carrot\",50),(\"lemon\",20)]\n",
        "print(price)"
      ],
      "metadata": {
        "colab": {
          "base_uri": "https://localhost:8080/"
        },
        "id": "Pp5-_12UAQhK",
        "outputId": "bd3eb41e-6917-4717-ac51-deaf4e1f48a3"
      },
      "execution_count": 1,
      "outputs": [
        {
          "output_type": "stream",
          "name": "stdout",
          "text": [
            "[1, 2, 3, 4, 5]\n",
            "['red', 'green', 'blue']\n",
            "['apple', 'banana', 'cherry', 'mango']\n",
            "['Alice', 25, 5.6, True]\n",
            "[('tomato', 15.5), ('carrot', 50), ('lemon', 20)]\n"
          ]
        }
      ]
    },
    {
      "cell_type": "markdown",
      "source": [
        "#  INDEXING\n",
        "*   Indexing is used to access elements from a list.\n",
        "*   Positive Indexing starts from 0 (left to right).\n",
        "*   Negative Indexing starts from -1 (right to left)."
      ],
      "metadata": {
        "id": "s2EBrJXMAg-5"
      }
    },
    {
      "cell_type": "code",
      "source": [
        "fruits = [\"apple\", \"banana\", \"cherry\", \"mango\", \"orange\"]\n",
        "print(fruits[0])\n",
        "\n",
        "fruits = [\"apple\", \"banana\", \"cherry\", \"mango\", \"orange\"]\n",
        "print(fruits[-1])\n",
        "\n",
        "numbers = [10, 20, 30, 40, 50]\n",
        "print(numbers[1])\n",
        "print(numbers[-4])\n",
        "\n",
        "letters = [\"A\", \"B\", \"C\", \"D\", \"E\"]\n",
        "print(letters[2])\n",
        "\n",
        "mix=[1,\"A\",22.68,True]\n",
        "print(mix[0])"
      ],
      "metadata": {
        "colab": {
          "base_uri": "https://localhost:8080/"
        },
        "id": "0-6fXK4WAtAf",
        "outputId": "b985029e-5a3f-4a27-e0d9-003fa2e462fc"
      },
      "execution_count": 2,
      "outputs": [
        {
          "output_type": "stream",
          "name": "stdout",
          "text": [
            "apple\n",
            "orange\n",
            "20\n",
            "20\n",
            "C\n",
            "1\n"
          ]
        }
      ]
    },
    {
      "cell_type": "markdown",
      "source": [
        "# SLICING\n",
        "*   Slicing is a technique used to extract a portion of a list, string, or tuple by specifying a range of indices.\n",
        "*    It helps in selecting multiple elements efficiently without using loops."
      ],
      "metadata": {
        "id": "dS8WG-ZuA08W"
      }
    },
    {
      "cell_type": "code",
      "source": [
        "numbers = [10, 20, 30, 40, 50, 60]\n",
        "print(numbers[1:4])  #list[start:end]\n",
        "\n",
        "letters = [\"A\", \"B\", \"C\", \"D\", \"E\"]\n",
        "print(letters[:3])  #list[:end]\n",
        "\n",
        "fruits = [\"apple\", \"banana\", \"cherry\", \"mango\", \"orange\"]\n",
        "print(fruits[2:])  #list[start:]\n",
        "\n",
        "animals = [\"cat\", \"dog\", \"rabbit\", \"elephant\", \"lion\"]\n",
        "print(animals[-4:-1])  #list[-start:-end]\n",
        "\n",
        "data = [100, 200, 300, 400, 500]\n",
        "print(data[::-1]) #Reversing List (list[::-1])"
      ],
      "metadata": {
        "colab": {
          "base_uri": "https://localhost:8080/"
        },
        "id": "6NiqVwasA96U",
        "outputId": "1787b30e-f3e5-4cdb-8142-f5e047ec1c22"
      },
      "execution_count": 3,
      "outputs": [
        {
          "output_type": "stream",
          "name": "stdout",
          "text": [
            "[20, 30, 40]\n",
            "['A', 'B', 'C']\n",
            "['cherry', 'mango', 'orange']\n",
            "['dog', 'rabbit', 'elephant']\n",
            "[500, 400, 300, 200, 100]\n"
          ]
        }
      ]
    },
    {
      "cell_type": "code",
      "source": [
        "#07-02-2025\n",
        "#explain About list methods"
      ],
      "metadata": {
        "id": "5IGFQ-w8BVV7"
      },
      "execution_count": null,
      "outputs": []
    },
    {
      "cell_type": "markdown",
      "source": [
        "#  List (Methods)\n",
        "1.append( )\n",
        "*  Adds a single element to the end of the list.\n",
        "*  Modifies the original list."
      ],
      "metadata": {
        "id": "QTfJ30vsBYh7"
      }
    },
    {
      "cell_type": "code",
      "source": [
        "list=[3,6,9,12,15]\n",
        "list.append(18)\n",
        "print(list)"
      ],
      "metadata": {
        "colab": {
          "base_uri": "https://localhost:8080/"
        },
        "id": "OoyBAOmiBiFX",
        "outputId": "7af3a522-3aa5-4ba6-e594-4e295a38a072"
      },
      "execution_count": 4,
      "outputs": [
        {
          "output_type": "stream",
          "name": "stdout",
          "text": [
            "[3, 6, 9, 12, 15, 18]\n"
          ]
        }
      ]
    },
    {
      "cell_type": "markdown",
      "source": [
        "2.Extend( )\n",
        "*   Adds multiple elements (iterable) at the end of the list.\n",
        "*   Similar to append(), but adds multiple values."
      ],
      "metadata": {
        "id": "vkhVl7JTByVT"
      }
    },
    {
      "cell_type": "code",
      "source": [
        "list_1 = [2,4,6,8,10]\n",
        "list_2 = [12,14,16]\n",
        "list_1.extend(list_2)\n",
        "print(list_1)"
      ],
      "metadata": {
        "colab": {
          "base_uri": "https://localhost:8080/"
        },
        "id": "zAZw_Ri4B8IC",
        "outputId": "8c411d70-dde9-4455-a353-b63a569564c0"
      },
      "execution_count": 5,
      "outputs": [
        {
          "output_type": "stream",
          "name": "stdout",
          "text": [
            "[2, 4, 6, 8, 10, 12, 14, 16]\n"
          ]
        }
      ]
    },
    {
      "cell_type": "markdown",
      "source": [
        "3.pop( )\n",
        "*   Removes and returns the element at a given index.\n",
        "*   Default is the last element."
      ],
      "metadata": {
        "id": "0VW3wLvtCIq9"
      }
    },
    {
      "cell_type": "code",
      "source": [
        "list = [3,6,9,12,15]\n",
        "list.pop(2)\n",
        "print(list)"
      ],
      "metadata": {
        "colab": {
          "base_uri": "https://localhost:8080/"
        },
        "id": "iCOcwo32CK2Z",
        "outputId": "46f4bb57-ae62-469b-a3eb-ca8886c5f814"
      },
      "execution_count": 6,
      "outputs": [
        {
          "output_type": "stream",
          "name": "stdout",
          "text": [
            "[3, 6, 12, 15]\n"
          ]
        }
      ]
    },
    {
      "cell_type": "markdown",
      "source": [
        "4.Insert( )\n",
        "*   Inserts an element at a specific index.\n",
        "*   Moves the existing elements forward."
      ],
      "metadata": {
        "id": "NCXs7TOcCPDZ"
      }
    },
    {
      "cell_type": "code",
      "source": [
        "list = [2,4,6,10,12]\n",
        "list.insert (3,8)\n",
        "print(list)"
      ],
      "metadata": {
        "colab": {
          "base_uri": "https://localhost:8080/"
        },
        "id": "nv0afNVwCgZF",
        "outputId": "55b141fd-ad23-4dfa-b8cf-2e8beb49d2f3"
      },
      "execution_count": 7,
      "outputs": [
        {
          "output_type": "stream",
          "name": "stdout",
          "text": [
            "[2, 4, 6, 8, 10, 12]\n"
          ]
        }
      ]
    },
    {
      "cell_type": "markdown",
      "source": [
        "5.len ( )\n",
        "*   Returns the total number of elements.\n",
        "*   It works with various data structures like lists, tuples, strings, dictionaries, and sets."
      ],
      "metadata": {
        "id": "Ht0bc2oPCxAM"
      }
    },
    {
      "cell_type": "code",
      "source": [
        "list = [2,4,6,8,10,12]\n",
        "len(list)"
      ],
      "metadata": {
        "colab": {
          "base_uri": "https://localhost:8080/"
        },
        "id": "BLP2sSwbC1kS",
        "outputId": "f5caa38a-3441-4217-a719-8618e1a4a071"
      },
      "execution_count": 8,
      "outputs": [
        {
          "output_type": "execute_result",
          "data": {
            "text/plain": [
              "6"
            ]
          },
          "metadata": {},
          "execution_count": 8
        }
      ]
    },
    {
      "cell_type": "markdown",
      "source": [
        "6.count( )\n",
        "*   Returns the number of occurrences of value in the iterable.\n",
        "*   Works with lists, tuples, and strings.\n",
        "*   If the value is not found, it returns 0."
      ],
      "metadata": {
        "id": "zILCX5I_C50r"
      }
    },
    {
      "cell_type": "code",
      "source": [
        "list = [2,4,2,6,2,8,2,10,4]\n",
        "list.count(2)"
      ],
      "metadata": {
        "colab": {
          "base_uri": "https://localhost:8080/"
        },
        "id": "Zy1lrJRwC-LH",
        "outputId": "90b02432-6985-483d-fc28-ab14a65dd118"
      },
      "execution_count": 9,
      "outputs": [
        {
          "output_type": "execute_result",
          "data": {
            "text/plain": [
              "4"
            ]
          },
          "metadata": {},
          "execution_count": 9
        }
      ]
    },
    {
      "cell_type": "markdown",
      "source": [
        "7.sort ( )\n",
        "*   sorts the list in ascending order by default."
      ],
      "metadata": {
        "id": "Be4n6F-6DFog"
      }
    },
    {
      "cell_type": "code",
      "source": [
        "# sort() integer values\n",
        "list = [12,10,8,6,4,2]\n",
        "list.sort()\n",
        "print(list)"
      ],
      "metadata": {
        "colab": {
          "base_uri": "https://localhost:8080/"
        },
        "id": "nZK_lgGgDKtx",
        "outputId": "4e56b503-4a58-4e7d-deac-b76e79047034"
      },
      "execution_count": 10,
      "outputs": [
        {
          "output_type": "stream",
          "name": "stdout",
          "text": [
            "[2, 4, 6, 8, 10, 12]\n"
          ]
        }
      ]
    },
    {
      "cell_type": "markdown",
      "source": [
        "8.sort() string Values\n",
        "*    Arranges strings in A-Z order.\n",
        "*   It follows ASCII values (uppercase letters come before lowercase letters)."
      ],
      "metadata": {
        "id": "d8ROWmy5DRX8"
      }
    },
    {
      "cell_type": "code",
      "source": [
        "# Sort() string values\n",
        "list= ['A','b','c','D','E' ]\n",
        "list.sort()\n",
        "print(list)"
      ],
      "metadata": {
        "colab": {
          "base_uri": "https://localhost:8080/"
        },
        "id": "1-JaYHyFDYAA",
        "outputId": "53e88e9c-a4f4-477e-b0c2-fb957123550b"
      },
      "execution_count": 11,
      "outputs": [
        {
          "output_type": "stream",
          "name": "stdout",
          "text": [
            "['A', 'D', 'E', 'b', 'c']\n"
          ]
        }
      ]
    },
    {
      "cell_type": "markdown",
      "source": [
        "9.reverse()\n",
        "\n",
        "\n",
        "*   It reverses the order of elements.\n",
        "*   Works only for lists (not for tuples, sets, or dictionaries)."
      ],
      "metadata": {
        "id": "tITINXArDpR_"
      }
    },
    {
      "cell_type": "code",
      "source": [
        "list = [18,15,12,9,6,3]\n",
        "list.reverse()\n",
        "print(list)"
      ],
      "metadata": {
        "colab": {
          "base_uri": "https://localhost:8080/"
        },
        "id": "mNtUhH0-DsVZ",
        "outputId": "03355f3a-c870-4e61-c9a2-e4fefc8bb22e"
      },
      "execution_count": 12,
      "outputs": [
        {
          "output_type": "stream",
          "name": "stdout",
          "text": [
            "[3, 6, 9, 12, 15, 18]\n"
          ]
        }
      ]
    },
    {
      "cell_type": "markdown",
      "source": [
        "10.clear( )\n",
        "\n",
        "*   Removes all elements from the list but keeps the list itself.\n",
        "*   It modifies the original list instead of creating a new one."
      ],
      "metadata": {
        "id": "iRXMSAdCD2Fk"
      }
    },
    {
      "cell_type": "code",
      "source": [
        "list= [2,4,6,8,10,12]\n",
        "list.clear()\n",
        "print(list)"
      ],
      "metadata": {
        "colab": {
          "base_uri": "https://localhost:8080/"
        },
        "id": "rTxCEonSD7pg",
        "outputId": "fca65b2e-84be-4229-a362-2bc13580a914"
      },
      "execution_count": 13,
      "outputs": [
        {
          "output_type": "stream",
          "name": "stdout",
          "text": [
            "[]\n"
          ]
        }
      ]
    },
    {
      "cell_type": "markdown",
      "source": [
        "11.copy()\n",
        "*   creates a new list with the same elements as the original.\n",
        "*   It is useful when you need to preserve the original list."
      ],
      "metadata": {
        "id": "sjSKpqm0EBMo"
      }
    },
    {
      "cell_type": "code",
      "source": [
        "list =[2,4,6,8,10,12]\n",
        "list_1= list.copy()\n",
        "print(list_1)"
      ],
      "metadata": {
        "colab": {
          "base_uri": "https://localhost:8080/"
        },
        "id": "5rZitJ4fEKNO",
        "outputId": "d9de1b6b-b884-48d3-9038-ec6c533cbd94"
      },
      "execution_count": 14,
      "outputs": [
        {
          "output_type": "stream",
          "name": "stdout",
          "text": [
            "[2, 4, 6, 8, 10, 12]\n"
          ]
        }
      ]
    },
    {
      "cell_type": "markdown",
      "source": [
        "12.index()\n",
        "*   Returns the index of the first occurrence of value.\n",
        "*   If the value is not found, it raises a ValueError."
      ],
      "metadata": {
        "id": "QSxcd0SEEfJX"
      }
    },
    {
      "cell_type": "code",
      "source": [
        "list = [2,4,6,8,10,12]\n",
        "list.index(8)"
      ],
      "metadata": {
        "colab": {
          "base_uri": "https://localhost:8080/"
        },
        "id": "Tp47ezMDEjYu",
        "outputId": "ac57ee80-8f11-4bb6-c45c-41b59efc536a"
      },
      "execution_count": 15,
      "outputs": [
        {
          "output_type": "execute_result",
          "data": {
            "text/plain": [
              "3"
            ]
          },
          "metadata": {},
          "execution_count": 15
        }
      ]
    }
  ]
}