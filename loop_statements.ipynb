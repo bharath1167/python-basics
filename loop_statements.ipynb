{
  "nbformat": 4,
  "nbformat_minor": 0,
  "metadata": {
    "colab": {
      "provenance": []
    },
    "kernelspec": {
      "name": "python3",
      "display_name": "Python 3"
    },
    "language_info": {
      "name": "python"
    }
  },
  "cells": [
    {
      "cell_type": "markdown",
      "source": [
        "# Loop Statements:\n",
        "1) While Loop:\n",
        "\n",
        "*   With the while loop we can execute a set of statements as long as a condition is true.\n",
        "*   It is useful when the number of iterations is unknown beforehand.\n",
        "*   remember to increment i, or else the loop will continue forever."
      ],
      "metadata": {
        "id": "-B4Ewzkl9Hhx"
      }
    },
    {
      "cell_type": "code",
      "source": [
        "# Syntax:\n",
        "while condition:\n",
        "    # Code block to execute"
      ],
      "metadata": {
        "id": "u4Xy_NvO9PtS"
      },
      "execution_count": null,
      "outputs": []
    },
    {
      "cell_type": "code",
      "source": [
        "# Basic Exmaple For While Loop\n",
        "# Condition 1:\n",
        "x = 1\n",
        "while x <= 5:\n",
        "    print(x)\n",
        "    x += 1"
      ],
      "metadata": {
        "colab": {
          "base_uri": "https://localhost:8080/"
        },
        "id": "raKPSwPp9WH0",
        "outputId": "b7733054-4614-4722-bb7b-164d45aafd84"
      },
      "execution_count": 1,
      "outputs": [
        {
          "output_type": "stream",
          "name": "stdout",
          "text": [
            "1\n",
            "2\n",
            "3\n",
            "4\n",
            "5\n"
          ]
        }
      ]
    },
    {
      "cell_type": "code",
      "source": [
        "#Condition 2:\n",
        "x = 1\n",
        "while x <= 5:\n",
        "    x += 1\n",
        "    print(x)"
      ],
      "metadata": {
        "colab": {
          "base_uri": "https://localhost:8080/"
        },
        "id": "PHrlU1ke9fEw",
        "outputId": "a9d6b1f7-38eb-45b0-952b-f1ee4d1df829"
      },
      "execution_count": 2,
      "outputs": [
        {
          "output_type": "stream",
          "name": "stdout",
          "text": [
            "2\n",
            "3\n",
            "4\n",
            "5\n",
            "6\n"
          ]
        }
      ]
    },
    {
      "cell_type": "markdown",
      "source": [
        "2) for loop:\n",
        "\n",
        "\n",
        "*   A for loop in Python is used to iterate over a sequence (such as a list, tuple, dictionary, string, or range).\n",
        "*   It executes a block of code for each item in the sequence."
      ],
      "metadata": {
        "id": "ySSsky_u9jvW"
      }
    },
    {
      "cell_type": "code",
      "source": [
        "#Syntax:\n",
        "\n",
        "for variable in sequence:\n",
        "    # Code block to execute"
      ],
      "metadata": {
        "id": "NOjKovFz9qgo"
      },
      "execution_count": null,
      "outputs": []
    },
    {
      "cell_type": "code",
      "source": [
        "#Basic Example For for loop\n",
        "for i in range(1,6):\n",
        "    print(i)"
      ],
      "metadata": {
        "colab": {
          "base_uri": "https://localhost:8080/"
        },
        "id": "EQCnIVgJ9uFF",
        "outputId": "cb8d29b1-b6f0-4759-9ce6-6c47c3da6e67"
      },
      "execution_count": 3,
      "outputs": [
        {
          "output_type": "stream",
          "name": "stdout",
          "text": [
            "1\n",
            "2\n",
            "3\n",
            "4\n",
            "5\n"
          ]
        }
      ]
    },
    {
      "cell_type": "code",
      "source": [
        "#Iterating Over a String\n",
        "text = \"Hello\"\n",
        "for char in text:\n",
        "    print(char)"
      ],
      "metadata": {
        "colab": {
          "base_uri": "https://localhost:8080/"
        },
        "id": "Vrk08a2G9zAG",
        "outputId": "74fab014-d24f-4808-bd23-c7c94d319d88"
      },
      "execution_count": 4,
      "outputs": [
        {
          "output_type": "stream",
          "name": "stdout",
          "text": [
            "H\n",
            "e\n",
            "l\n",
            "l\n",
            "o\n"
          ]
        }
      ]
    },
    {
      "cell_type": "code",
      "source": [
        "#Iterating Over a Tuple\n",
        "numbers = (10, 20, 30, 40)\n",
        "for num in numbers:\n",
        "    print(num)"
      ],
      "metadata": {
        "colab": {
          "base_uri": "https://localhost:8080/"
        },
        "id": "ZqkXErsa93q1",
        "outputId": "e13223a9-4694-48dd-d574-18715fbea684"
      },
      "execution_count": 5,
      "outputs": [
        {
          "output_type": "stream",
          "name": "stdout",
          "text": [
            "10\n",
            "20\n",
            "30\n",
            "40\n"
          ]
        }
      ]
    },
    {
      "cell_type": "code",
      "source": [
        "#Iterating Over a Dictionary (Keys and Values)\n",
        "student = {\"name\": \"Alice\", \"age\": 22, \"grade\": \"A\"}\n",
        "for key, value in student.items():\n",
        "    print(key, \":\", value)"
      ],
      "metadata": {
        "colab": {
          "base_uri": "https://localhost:8080/"
        },
        "id": "4ualNrB899Y4",
        "outputId": "3911bfa1-41c9-4644-ef7c-4724f9072ba3"
      },
      "execution_count": 6,
      "outputs": [
        {
          "output_type": "stream",
          "name": "stdout",
          "text": [
            "name : Alice\n",
            "age : 22\n",
            "grade : A\n"
          ]
        }
      ]
    },
    {
      "cell_type": "code",
      "source": [
        "#Iterating Over a Set\n",
        "fruits = {\"apple\", \"banana\", \"cherry\"}\n",
        "for fruit in fruits:\n",
        "    print(fruit)"
      ],
      "metadata": {
        "colab": {
          "base_uri": "https://localhost:8080/"
        },
        "id": "pKDhgdhP-B2B",
        "outputId": "6f650520-a622-4424-c0cd-5a18cd47e46a"
      },
      "execution_count": 7,
      "outputs": [
        {
          "output_type": "stream",
          "name": "stdout",
          "text": [
            "banana\n",
            "apple\n",
            "cherry\n"
          ]
        }
      ]
    },
    {
      "cell_type": "markdown",
      "source": [
        "# Control Statements:\n",
        "*   Control statements alter the flow of execution in loops and conditional statements.\n",
        "*   The three main control statements are pass, continue, and break."
      ],
      "metadata": {
        "id": "VexeR8mr-MCi"
      }
    },
    {
      "cell_type": "markdown",
      "source": [
        "1) pass:\n",
        "*   The pass statement is a placeholder and does nothing when executed.\n",
        "*   It is useful when a block of code is syntactically required but not yet implemented."
      ],
      "metadata": {
        "id": "QW56o7QC-XxH"
      }
    },
    {
      "cell_type": "code",
      "source": [
        "for i in range(5):\n",
        "    if i == 2:\n",
        "        pass  # Placeholder, does nothing\n",
        "    else:\n",
        "        print(i)"
      ],
      "metadata": {
        "colab": {
          "base_uri": "https://localhost:8080/"
        },
        "id": "7Am1hG63-aj5",
        "outputId": "ad355596-ed1c-4694-e285-b38f584137a2"
      },
      "execution_count": 8,
      "outputs": [
        {
          "output_type": "stream",
          "name": "stdout",
          "text": [
            "0\n",
            "1\n",
            "3\n",
            "4\n"
          ]
        }
      ]
    },
    {
      "cell_type": "markdown",
      "source": [
        "2) Continue:\n",
        "*   It is used to skip a specific iteration in a loop.\n",
        "*   The loop does not terminate; it continues with the next iteration."
      ],
      "metadata": {
        "id": "oUrYLOox0hmY"
      }
    },
    {
      "cell_type": "code",
      "source": [
        "# Skip printing 2\n",
        "for i in range(5):\n",
        "    if i == 2:\n",
        "        continue\n",
        "    print(i)"
      ],
      "metadata": {
        "colab": {
          "base_uri": "https://localhost:8080/"
        },
        "id": "CyQfvBZp0mpv",
        "outputId": "49f6b051-8d99-4c40-e646-f50df4cf3409"
      },
      "execution_count": 9,
      "outputs": [
        {
          "output_type": "stream",
          "name": "stdout",
          "text": [
            "0\n",
            "1\n",
            "3\n",
            "4\n"
          ]
        }
      ]
    },
    {
      "cell_type": "code",
      "source": [
        "# Skip even numbers\n",
        "for num in range(1, 6):\n",
        "    if num % 2 == 0:\n",
        "        continue\n",
        "    print(num)"
      ],
      "metadata": {
        "colab": {
          "base_uri": "https://localhost:8080/"
        },
        "id": "nYchZ5RY0sfb",
        "outputId": "bcf2b59e-9d42-402a-f99f-73666b7c019c"
      },
      "execution_count": 10,
      "outputs": [
        {
          "output_type": "stream",
          "name": "stdout",
          "text": [
            "1\n",
            "3\n",
            "5\n"
          ]
        }
      ]
    },
    {
      "cell_type": "markdown",
      "source": [
        "3) break:\n",
        "\n",
        "\n",
        "*   It is used to exit a loop immediately.\n",
        "*   Any code after break inside the loop is not executed."
      ],
      "metadata": {
        "id": "atIDR0Js0yoC"
      }
    },
    {
      "cell_type": "code",
      "source": [
        "for i in range(5):\n",
        "    if i == 3:\n",
        "        break  # Stop the loop when i is 3\n",
        "    print(i)"
      ],
      "metadata": {
        "colab": {
          "base_uri": "https://localhost:8080/"
        },
        "id": "D66hyJ950420",
        "outputId": "793fa64a-12a0-4fa4-ff96-3976f1d69512"
      },
      "execution_count": 11,
      "outputs": [
        {
          "output_type": "stream",
          "name": "stdout",
          "text": [
            "0\n",
            "1\n",
            "2\n"
          ]
        }
      ]
    },
    {
      "cell_type": "code",
      "source": [
        "# Stop loop when word is found\n",
        "words = [\"apple\", \"banana\", \"cherry\", \"mango\"]\n",
        "for word in words:\n",
        "    if word == \"cherry\":\n",
        "        break\n",
        "    print(word)"
      ],
      "metadata": {
        "colab": {
          "base_uri": "https://localhost:8080/"
        },
        "id": "aytK2eyG0-qF",
        "outputId": "eda5b64f-35b9-4e9b-c1c5-0f351742fe6d"
      },
      "execution_count": 12,
      "outputs": [
        {
          "output_type": "stream",
          "name": "stdout",
          "text": [
            "apple\n",
            "banana\n"
          ]
        }
      ]
    }
  ]
}