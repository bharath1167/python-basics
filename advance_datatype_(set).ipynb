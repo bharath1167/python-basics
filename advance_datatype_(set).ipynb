{
  "nbformat": 4,
  "nbformat_minor": 0,
  "metadata": {
    "colab": {
      "provenance": []
    },
    "kernelspec": {
      "name": "python3",
      "display_name": "Python 3"
    },
    "language_info": {
      "name": "python"
    }
  },
  "cells": [
    {
      "cell_type": "markdown",
      "source": [
        "# Set( ):\n",
        "*   Unordered Collection – Elements in a set have no specific order.\n",
        "*   Duplicate values are automatically removed.\n",
        "*   You can add or remove elements, but individual elements are immutable.\n",
        "*   Represented  Using {} and separated by \" , \"."
      ],
      "metadata": {
        "id": "Zl0CsVPCHXdH"
      }
    },
    {
      "cell_type": "code",
      "source": [
        "a = {1,2,3,4,5,6}\n",
        "print(a)\n",
        "print(type(a))"
      ],
      "metadata": {
        "colab": {
          "base_uri": "https://localhost:8080/"
        },
        "id": "nT-krUuDHd6j",
        "outputId": "5b984387-9d3f-4604-fb30-9971edce97c5"
      },
      "execution_count": 1,
      "outputs": [
        {
          "output_type": "stream",
          "name": "stdout",
          "text": [
            "{1, 2, 3, 4, 5, 6}\n",
            "<class 'set'>\n"
          ]
        }
      ]
    },
    {
      "cell_type": "markdown",
      "source": [
        "* We can convert a list into a set using the set() function."
      ],
      "metadata": {
        "id": "QVSFW4hIHkFO"
      }
    },
    {
      "cell_type": "code",
      "source": [
        "a = set([1,2,3,4,5,6])\n",
        "print(a)\n",
        "print(type(a))"
      ],
      "metadata": {
        "colab": {
          "base_uri": "https://localhost:8080/"
        },
        "id": "rP9PKN8pHoiV",
        "outputId": "0a258896-285c-4416-fc1a-a74f94830c54"
      },
      "execution_count": 2,
      "outputs": [
        {
          "output_type": "stream",
          "name": "stdout",
          "text": [
            "{1, 2, 3, 4, 5, 6}\n",
            "<class 'set'>\n"
          ]
        }
      ]
    },
    {
      "cell_type": "markdown",
      "source": [
        " * Duplicates are automatically removed in the set."
      ],
      "metadata": {
        "id": "Ykbtwt8QHxio"
      }
    },
    {
      "cell_type": "code",
      "source": [
        "a = {1,2,3,4,5,1,2,4,7,8,9}\n",
        "print(a)\n",
        "print(type(a))"
      ],
      "metadata": {
        "colab": {
          "base_uri": "https://localhost:8080/"
        },
        "id": "Z-RbnDMVJ-dc",
        "outputId": "5fa4c06d-f3b6-475f-d762-afb2b18f377b"
      },
      "execution_count": 3,
      "outputs": [
        {
          "output_type": "stream",
          "name": "stdout",
          "text": [
            "{1, 2, 3, 4, 5, 7, 8, 9}\n",
            "<class 'set'>\n"
          ]
        }
      ]
    },
    {
      "cell_type": "markdown",
      "source": [
        "# # Set Methods:\n",
        "1) add():\n",
        "\n",
        "\n",
        "*   Adds an element to the set."
      ],
      "metadata": {
        "id": "o6hZppKDKITA"
      }
    },
    {
      "cell_type": "code",
      "source": [
        "a = {1,2,3,4,5}\n",
        "a.add(6)\n",
        "print(a)"
      ],
      "metadata": {
        "colab": {
          "base_uri": "https://localhost:8080/"
        },
        "id": "nYlnzNI2KWic",
        "outputId": "0ea2ae39-659a-49a8-f7d4-4746c1966609"
      },
      "execution_count": 4,
      "outputs": [
        {
          "output_type": "stream",
          "name": "stdout",
          "text": [
            "{1, 2, 3, 4, 5, 6}\n"
          ]
        }
      ]
    },
    {
      "cell_type": "markdown",
      "source": [
        "2) remove( ):\n",
        "\n",
        "\n",
        "*   Removes the specified element.\n",
        "*   raises an error if not found."
      ],
      "metadata": {
        "id": "6Axaj6uNKbJM"
      }
    },
    {
      "cell_type": "code",
      "source": [
        "a = {1,2,3,4,5,6}\n",
        "a.remove(6)\n",
        "print(a)"
      ],
      "metadata": {
        "colab": {
          "base_uri": "https://localhost:8080/"
        },
        "id": "R4YNc6ENKlM6",
        "outputId": "c9181d39-80d0-43ac-d3c9-214eff1eebd1"
      },
      "execution_count": 5,
      "outputs": [
        {
          "output_type": "stream",
          "name": "stdout",
          "text": [
            "{1, 2, 3, 4, 5}\n"
          ]
        }
      ]
    },
    {
      "cell_type": "markdown",
      "source": [
        "3) update( ):\n",
        "*   used to add multiple elements from another set, list, tuple, or any iterable to an existing set."
      ],
      "metadata": {
        "id": "-gTidA4LKp-E"
      }
    },
    {
      "cell_type": "code",
      "source": [
        "a = {1,2,3,4,5}\n",
        "b = {6,7,8,9,10}\n",
        "a.update(b)\n",
        "print(a)"
      ],
      "metadata": {
        "colab": {
          "base_uri": "https://localhost:8080/"
        },
        "id": "lgnM2ObAKxE3",
        "outputId": "5325cdfd-a319-40ef-eed3-526a2d46fe09"
      },
      "execution_count": 6,
      "outputs": [
        {
          "output_type": "stream",
          "name": "stdout",
          "text": [
            "{1, 2, 3, 4, 5, 6, 7, 8, 9, 10}\n"
          ]
        }
      ]
    },
    {
      "cell_type": "markdown",
      "source": [
        "4) clear( ):\n",
        "*   Used to remove all elements from a set, making it an empty set."
      ],
      "metadata": {
        "id": "zMxrAdUUK18S"
      }
    },
    {
      "cell_type": "code",
      "source": [
        "a.clear()\n",
        "print(a)"
      ],
      "metadata": {
        "colab": {
          "base_uri": "https://localhost:8080/"
        },
        "id": "Yfpf8UXfK9k5",
        "outputId": "b1c8418d-4d5a-4f50-8248-783997cb5315"
      },
      "execution_count": 7,
      "outputs": [
        {
          "output_type": "stream",
          "name": "stdout",
          "text": [
            "set()\n"
          ]
        }
      ]
    },
    {
      "cell_type": "markdown",
      "source": [
        "# Set Operators:\n",
        "1) union( ):\n",
        "\n",
        "\n",
        "*   The union() method combines two or more sets\n",
        "*   Returning a new set with all unique elements."
      ],
      "metadata": {
        "id": "ZIFLvpyvLGks"
      }
    },
    {
      "cell_type": "code",
      "source": [
        "a = {1,2,3,4,5}\n",
        "b = {4,5,6,7,8}\n",
        "a.union(b)"
      ],
      "metadata": {
        "colab": {
          "base_uri": "https://localhost:8080/"
        },
        "id": "V4QU42f0LPtT",
        "outputId": "337f903c-e89c-4be3-9564-e0e09ac4878a"
      },
      "execution_count": 8,
      "outputs": [
        {
          "output_type": "execute_result",
          "data": {
            "text/plain": [
              "{1, 2, 3, 4, 5, 6, 7, 8}"
            ]
          },
          "metadata": {},
          "execution_count": 8
        }
      ]
    },
    {
      "cell_type": "code",
      "source": [
        "# union of 'a' and 'b'\n",
        "a|b"
      ],
      "metadata": {
        "colab": {
          "base_uri": "https://localhost:8080/"
        },
        "id": "TYZclEKeLU1J",
        "outputId": "4e34c44a-6bc7-461a-97d6-d7133b9a46ed"
      },
      "execution_count": 9,
      "outputs": [
        {
          "output_type": "execute_result",
          "data": {
            "text/plain": [
              "{1, 2, 3, 4, 5, 6, 7, 8}"
            ]
          },
          "metadata": {},
          "execution_count": 9
        }
      ]
    },
    {
      "cell_type": "markdown",
      "source": [
        "2) intersection( ):\n",
        "\n",
        "\n",
        "*   Returns a new set containing only the common elements of two or more sets.\n",
        "*   The result contains only unique elements that exist in all sets."
      ],
      "metadata": {
        "id": "R0xoDcWbLcSi"
      }
    },
    {
      "cell_type": "code",
      "source": [
        "a = {1,2,3,4,5}\n",
        "b = {4,5,6,7,8}\n",
        "a.intersection(b)"
      ],
      "metadata": {
        "colab": {
          "base_uri": "https://localhost:8080/"
        },
        "id": "Vti1pDmQLkfU",
        "outputId": "44aab712-16a2-4eab-e357-339422defbf6"
      },
      "execution_count": 10,
      "outputs": [
        {
          "output_type": "execute_result",
          "data": {
            "text/plain": [
              "{4, 5}"
            ]
          },
          "metadata": {},
          "execution_count": 10
        }
      ]
    },
    {
      "cell_type": "code",
      "source": [
        "# intersection of 'a' and 'b'\n",
        "a&b"
      ],
      "metadata": {
        "colab": {
          "base_uri": "https://localhost:8080/"
        },
        "id": "nFeaHim4L5uu",
        "outputId": "db3653f7-a187-4c6e-c143-40c12bc9859f"
      },
      "execution_count": 11,
      "outputs": [
        {
          "output_type": "execute_result",
          "data": {
            "text/plain": [
              "{4, 5}"
            ]
          },
          "metadata": {},
          "execution_count": 11
        }
      ]
    },
    {
      "cell_type": "markdown",
      "source": [
        "3) Difference( ):\n",
        "*   Returns a new set containing elements that are in set A but not in set B."
      ],
      "metadata": {
        "id": "-8PGKqb5MBe3"
      }
    },
    {
      "cell_type": "code",
      "source": [
        "# Difference (\"a-b\")\n",
        "a = {1,2,3,4,5}\n",
        "b = {4,5,6,7,8}\n",
        "a-b"
      ],
      "metadata": {
        "colab": {
          "base_uri": "https://localhost:8080/"
        },
        "id": "wHZs34voMHPB",
        "outputId": "2e718e14-2e1b-4bc0-9bb2-e4e6f109fd83"
      },
      "execution_count": 12,
      "outputs": [
        {
          "output_type": "execute_result",
          "data": {
            "text/plain": [
              "{1, 2, 3}"
            ]
          },
          "metadata": {},
          "execution_count": 12
        }
      ]
    },
    {
      "cell_type": "code",
      "source": [
        "# Difference (\"b-a\")\n",
        "a = {1,2,3,4,5}\n",
        "b = {4,5,6,7,8}\n",
        "b-a"
      ],
      "metadata": {
        "colab": {
          "base_uri": "https://localhost:8080/"
        },
        "id": "YZVSdvJtMLwF",
        "outputId": "7d25d842-f800-4ff1-d012-a65d63432ee7"
      },
      "execution_count": 13,
      "outputs": [
        {
          "output_type": "execute_result",
          "data": {
            "text/plain": [
              "{6, 7, 8}"
            ]
          },
          "metadata": {},
          "execution_count": 13
        }
      ]
    },
    {
      "cell_type": "markdown",
      "source": [
        "4) Symmetric_difference( ):\n",
        "\n",
        "\n",
        "*   Returns a new set containing elements that are in either set A or set B, but not in both.\n",
        "*   You can use the ^ (caret) operator.\n",
        "*   It returns a new set instead of modifying existing ones.\n",
        "*   The result contains only unique elements."
      ],
      "metadata": {
        "id": "pGGLIpibMQEp"
      }
    },
    {
      "cell_type": "code",
      "source": [
        "a = {1, 2, 3, 4}\n",
        "b = {3, 4, 5, 6}\n",
        "result = a.symmetric_difference(b)\n",
        "print(result)"
      ],
      "metadata": {
        "colab": {
          "base_uri": "https://localhost:8080/"
        },
        "id": "aaeRCtPlMpYy",
        "outputId": "d559117c-eb8c-4b12-8226-12e3094b7c38"
      },
      "execution_count": 14,
      "outputs": [
        {
          "output_type": "stream",
          "name": "stdout",
          "text": [
            "{1, 2, 5, 6}\n"
          ]
        }
      ]
    },
    {
      "cell_type": "code",
      "source": [
        "a^b"
      ],
      "metadata": {
        "colab": {
          "base_uri": "https://localhost:8080/"
        },
        "id": "J5UKcA0UM44j",
        "outputId": "ed8e2591-be78-46b1-fd29-d515b5dea601"
      },
      "execution_count": 15,
      "outputs": [
        {
          "output_type": "execute_result",
          "data": {
            "text/plain": [
              "{1, 2, 5, 6}"
            ]
          },
          "metadata": {},
          "execution_count": 15
        }
      ]
    }
  ]
}