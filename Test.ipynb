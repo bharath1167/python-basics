{
  "nbformat": 4,
  "nbformat_minor": 0,
  "metadata": {
    "colab": {
      "provenance": []
    },
    "kernelspec": {
      "name": "python3",
      "display_name": "Python 3"
    },
    "language_info": {
      "name": "python"
    }
  },
  "cells": [
    {
      "cell_type": "markdown",
      "source": [
        "# What is python\n",
        "Python is a programming language that is used for a variety of tasks, including web development, data analysis, and machine learning. It is known for being easy to learn, efficient, and versatile"
      ],
      "metadata": {
        "id": "XkfL4mCNIYK_"
      }
    },
    {
      "cell_type": "markdown",
      "source": [
        "# What are key features of python?\n",
        "Free and open source: Python is free to download, install, and use.\n",
        "\n",
        "Easy to learn: Python has a simple syntax and is closer to human languages than some other programming languages.\n",
        "\n",
        "Portable: Python code can run on multiple operating systems, such as Windows, Linux, Unix, or Mac.\n",
        "\n",
        "Large standard library: Python has a large standard library with many modules and functions.\n",
        "\n",
        "Object-oriented: Python recognizes the concept of class and object encapsulation."
      ],
      "metadata": {
        "id": "HJVdG7wQJC5J"
      }
    },
    {
      "cell_type": "markdown",
      "source": [
        "# How is python different from other programming languages\n",
        "Python stands out for its simplicity, readability, and dynamic typing, making it beginner-friendly. Unlike compiled languages like C++, Python is interpreted, which allows for easier debugging and testing. It has extensive libraries for various tasks (e.g., web development, data science, AI) and is cross-platform compatible. While slower than compiled languages, Python’s versatility and large community make it ideal for rapid development in diverse fields. However, for performance-intensive applications, languages like C or Java may be preferred."
      ],
      "metadata": {
        "id": "pJVVWimmKZw1"
      }
    },
    {
      "cell_type": "markdown",
      "source": [
        "# What are python datatypes\n",
        "they are classified into 2 types\n",
        "\n",
        "1)Basic datatypes:\n",
        "    int,\n",
        "    float,\n",
        "    complex,\n",
        "    boolean,\n",
        "2)Advance datatypes\n",
        "    list,\n",
        "    string,\n",
        "    tuple,\n",
        "    dictionary,\n",
        "    set"
      ],
      "metadata": {
        "id": "numjnSA0K9o4"
      }
    },
    {
      "cell_type": "markdown",
      "source": [
        "# What is the difference between list and tuple\n",
        "\n",
        "The key differences between a **list** and a **tuple** in Python are:\n",
        "\n",
        "1. **Mutability**:\n",
        "   - **List**: Mutable (can be modified after creation; elements can be added, removed, or changed).\n",
        "   - **Tuple**: Immutable (cannot be modified after creation; once defined, its elements cannot be changed).\n",
        "\n",
        "2. **Syntax**:\n",
        "   - **List**: Defined with square brackets `[]` (e.g., `[1, 2, 3]`).\n",
        "   - **Tuple**: Defined with parentheses `()` (e.g., `(1, 2, 3)`).\n",
        "\n",
        "3. **Performance**:\n",
        "   - **List**: Slower than tuples due to its mutability and extra features.\n",
        "   - **Tuple**: Faster and more memory-efficient because it is immutable.\n",
        "\n",
        "4. **Use Cases**:\n",
        "   - **List**: Used when you need a collection of items that may change.\n",
        "   - **Tuple**: Used when you want a fixed collection of items that shouldn’t change.\n",
        "\n",
        "In short, lists are mutable and flexible, while tuples are immutable and efficient."
      ],
      "metadata": {
        "id": "_9-IkWIkLsqn"
      }
    },
    {
      "cell_type": "markdown",
      "source": [
        "# How do you comment in python\n",
        "\n",
        "#"
      ],
      "metadata": {
        "id": "sPDQJpPfMOIm"
      }
    },
    {
      "cell_type": "markdown",
      "source": [
        "# What is difference between break,continue and pass\n",
        "\n",
        "\n",
        "- **`break`** stops the loop,\n",
        "- **`continue`** skips the current iteration,\n",
        "- **`pass`** does nothing but keeps the code structure intact."
      ],
      "metadata": {
        "id": "FA6lhFc9Mob9"
      }
    },
    {
      "cell_type": "markdown",
      "source": [
        "# What is the difference between is and==\n",
        "\n",
        "\n",
        "- **`==`** checks if values are the same.\n",
        "- **`is`** checks if they are the same object in memory.\n",
        "\n"
      ],
      "metadata": {
        "id": "_IqpTWz0NLJn"
      }
    },
    {
      "cell_type": "markdown",
      "source": [
        "# How do you define a function in python\n",
        "\n",
        "syntax:def function name(parameter):"
      ],
      "metadata": {
        "id": "tTMplge7NnQs"
      }
    },
    {
      "cell_type": "markdown",
      "source": [
        "# What is a class and an object in python\n",
        "\n",
        "\n",
        "\n",
        "\n",
        "- **Class** is a template, and an **object** is an instance of that template with actual values.\n"
      ],
      "metadata": {
        "id": "cViP13gLODFW"
      }
    },
    {
      "cell_type": "markdown",
      "source": [
        "# What is inheritance in python\n",
        "\n",
        " **inheritance** enables code reuse and the creation of a class hierarchy, where a child class can inherit from one or more parent classes.\n",
        "\n"
      ],
      "metadata": {
        "id": "D6lQzSv_Oacl"
      }
    },
    {
      "cell_type": "markdown",
      "source": [
        "# How do you handle exceptions in python\n",
        "\n",
        "In Python, exceptions are handled using **try**, **except**, **else**, and **finally** blocks:\n",
        "\n",
        "1. **`try`**: Code that might raise an exception is placed inside the `try` block.\n",
        "2. **`except`**: If an exception occurs in the `try` block, it is caught and handled by the `except` block.\n",
        "3. **`else`**: Code inside the `else` block runs if no exception occurs in the `try` block.\n",
        "4. **`finally`**: Code in the `finally` block runs regardless of whether an exception occurred or not (usually used for cleanup).\n",
        "\n",
        "\n"
      ],
      "metadata": {
        "id": "o5CVzEYkOsNT"
      }
    },
    {
      "cell_type": "markdown",
      "source": [
        "# CODING"
      ],
      "metadata": {
        "id": "U8ero2EgPXXT"
      }
    },
    {
      "cell_type": "markdown",
      "source": [
        "# python code to reverse a string"
      ],
      "metadata": {
        "id": "iUKC7S-KPb_Y"
      }
    },
    {
      "cell_type": "code",
      "source": [
        "str=input(\"enter the string\")\n",
        "print(str[::-1])"
      ],
      "metadata": {
        "colab": {
          "base_uri": "https://localhost:8080/"
        },
        "id": "b9eIwtSZTvV3",
        "outputId": "44e8853f-83c6-47a1-f12a-b5a4501f7190"
      },
      "execution_count": 4,
      "outputs": [
        {
          "output_type": "stream",
          "name": "stdout",
          "text": [
            "enter the stringsad\n",
            "das\n"
          ]
        }
      ]
    },
    {
      "cell_type": "markdown",
      "source": [
        "# Check if a number is even or odd\n"
      ],
      "metadata": {
        "id": "k_KE3pg7UKSm"
      }
    },
    {
      "cell_type": "code",
      "source": [
        "num=int(input(\"enter the number\"))\n",
        "if num%2==0:\n",
        "  print(\"even\")\n",
        "else:\n",
        "  print(\"odd\")"
      ],
      "metadata": {
        "colab": {
          "base_uri": "https://localhost:8080/"
        },
        "id": "NWty296iUVTJ",
        "outputId": "95bd1c0e-39c7-4b31-bea9-8ffb9ee5ed3a"
      },
      "execution_count": 6,
      "outputs": [
        {
          "output_type": "stream",
          "name": "stdout",
          "text": [
            "enter the number2\n",
            "even\n"
          ]
        }
      ]
    },
    {
      "cell_type": "markdown",
      "source": [
        "# Check if a string is a palindrome"
      ],
      "metadata": {
        "id": "bk7kPUBCU5PW"
      }
    },
    {
      "cell_type": "code",
      "source": [
        "str=input(\"enter a string\")\n",
        "str1=str[::-1]\n",
        "\n",
        "if(str==str1):\n",
        "  print(\"palindrome\")\n",
        "else:\n",
        "  print(\"not palindrome\")"
      ],
      "metadata": {
        "colab": {
          "base_uri": "https://localhost:8080/"
        },
        "id": "ti9SZ24_VIVH",
        "outputId": "e1ed458f-a23d-490b-ffe6-ba2b9aadf599"
      },
      "execution_count": 7,
      "outputs": [
        {
          "output_type": "stream",
          "name": "stdout",
          "text": [
            "enter a stringoppo\n",
            "palindrome\n"
          ]
        }
      ]
    },
    {
      "cell_type": "markdown",
      "source": [
        "# Calculate the factorial of a number"
      ],
      "metadata": {
        "id": "AhvfhIyzWC0c"
      }
    },
    {
      "cell_type": "code",
      "source": [
        "i=int(input(\"enter a number:\"))\n",
        "fact=1\n",
        "while(i>0):\n",
        "  fact=fact*i\n",
        "  i=i-1\n",
        "print(fact)"
      ],
      "metadata": {
        "colab": {
          "base_uri": "https://localhost:8080/"
        },
        "id": "jB2XjLUHWKcV",
        "outputId": "bda69908-e940-4062-e9aa-c2d6314ed1b2"
      },
      "execution_count": 11,
      "outputs": [
        {
          "output_type": "stream",
          "name": "stdout",
          "text": [
            "enter a number:5\n",
            "120\n"
          ]
        }
      ]
    }
  ]
}