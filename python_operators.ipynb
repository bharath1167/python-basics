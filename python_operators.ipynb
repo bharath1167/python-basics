{
  "nbformat": 4,
  "nbformat_minor": 0,
  "metadata": {
    "colab": {
      "provenance": []
    },
    "kernelspec": {
      "name": "python3",
      "display_name": "Python 3"
    },
    "language_info": {
      "name": "python"
    }
  },
  "cells": [
    {
      "cell_type": "markdown",
      "source": [
        "# Operators:\n",
        "**1) Arithmetic operators:** are used with numeric values to perform common mathematical operations"
      ],
      "metadata": {
        "id": "0xF2gKs4VNVy"
      }
    },
    {
      "cell_type": "code",
      "source": [
        "a = 28\n",
        "b = 6\n",
        "print(a+b)\n",
        "print(a-b)\n",
        "print(a*b)\n",
        "print(a/b)\n",
        "print(a%b)\n",
        "print(a**b)\n",
        "print(a//b)"
      ],
      "metadata": {
        "colab": {
          "base_uri": "https://localhost:8080/"
        },
        "id": "9U8GdaooVVP2",
        "outputId": "e810e7b5-1894-4fa6-cd4f-483f742bdc4c"
      },
      "execution_count": 1,
      "outputs": [
        {
          "output_type": "stream",
          "name": "stdout",
          "text": [
            "34\n",
            "22\n",
            "168\n",
            "4.666666666666667\n",
            "4\n",
            "481890304\n",
            "4\n"
          ]
        }
      ]
    },
    {
      "cell_type": "markdown",
      "source": [
        "**2)Comparison operators :** are used to compare two values:"
      ],
      "metadata": {
        "id": "Vo45EuDuVeU1"
      }
    },
    {
      "cell_type": "code",
      "source": [
        "a = 28\n",
        "b = 6\n",
        "print(a==b)\n",
        "print(a!=b)\n",
        "print(a>b)\n",
        "print(a<b)\n",
        "print(a>=b)\n",
        "print(a<=b)"
      ],
      "metadata": {
        "colab": {
          "base_uri": "https://localhost:8080/"
        },
        "id": "eLawtcRfVmOW",
        "outputId": "3bbf7f91-7646-4e75-b8c1-0828ed71b3da"
      },
      "execution_count": 2,
      "outputs": [
        {
          "output_type": "stream",
          "name": "stdout",
          "text": [
            "False\n",
            "True\n",
            "True\n",
            "False\n",
            "True\n",
            "False\n"
          ]
        }
      ]
    },
    {
      "cell_type": "markdown",
      "source": [
        "**3)Assignment operators:** are used to assign values to variables"
      ],
      "metadata": {
        "id": "KNtAPijAVsNE"
      }
    },
    {
      "cell_type": "code",
      "source": [
        "a = 28\n",
        "b = 6\n",
        "a+=b\n",
        "print(a)"
      ],
      "metadata": {
        "colab": {
          "base_uri": "https://localhost:8080/"
        },
        "id": "xs2J97etVvw_",
        "outputId": "b46bf8f0-53f5-4584-cfb2-fc44cc38cfc0"
      },
      "execution_count": 5,
      "outputs": [
        {
          "output_type": "stream",
          "name": "stdout",
          "text": [
            "34\n"
          ]
        }
      ]
    },
    {
      "cell_type": "code",
      "source": [
        "a-=b\n",
        "print(a)"
      ],
      "metadata": {
        "colab": {
          "base_uri": "https://localhost:8080/"
        },
        "id": "KOWqnSlGVy88",
        "outputId": "602f4eb4-ec24-44d7-c2f3-7a210b3177d2"
      },
      "execution_count": 6,
      "outputs": [
        {
          "output_type": "stream",
          "name": "stdout",
          "text": [
            "28\n"
          ]
        }
      ]
    },
    {
      "cell_type": "code",
      "source": [
        "a*=b\n",
        "print(a)"
      ],
      "metadata": {
        "colab": {
          "base_uri": "https://localhost:8080/"
        },
        "id": "ngt0D3ucV5rR",
        "outputId": "4d4800fa-65f5-4783-9c41-8eb3b761572c"
      },
      "execution_count": 7,
      "outputs": [
        {
          "output_type": "stream",
          "name": "stdout",
          "text": [
            "168\n"
          ]
        }
      ]
    },
    {
      "cell_type": "code",
      "source": [
        "a/=b\n",
        "print(a)"
      ],
      "metadata": {
        "colab": {
          "base_uri": "https://localhost:8080/"
        },
        "id": "NzvIjFD2V8wx",
        "outputId": "90ea3ff8-c536-40db-e54e-33d075fb717e"
      },
      "execution_count": 8,
      "outputs": [
        {
          "output_type": "stream",
          "name": "stdout",
          "text": [
            "28.0\n"
          ]
        }
      ]
    },
    {
      "cell_type": "code",
      "source": [
        "a%=b\n",
        "print(a)"
      ],
      "metadata": {
        "colab": {
          "base_uri": "https://localhost:8080/"
        },
        "id": "BHKx2vVmV_kz",
        "outputId": "ca99b613-ccc7-4789-d9a4-747e7180da5a"
      },
      "execution_count": 9,
      "outputs": [
        {
          "output_type": "stream",
          "name": "stdout",
          "text": [
            "4.0\n"
          ]
        }
      ]
    },
    {
      "cell_type": "code",
      "source": [
        "a**=b\n",
        "print(a)"
      ],
      "metadata": {
        "colab": {
          "base_uri": "https://localhost:8080/"
        },
        "id": "N3FdH_yNWC5H",
        "outputId": "7fbb3b88-62fa-42c8-f1e4-5459f2b80664"
      },
      "execution_count": 10,
      "outputs": [
        {
          "output_type": "stream",
          "name": "stdout",
          "text": [
            "4096.0\n"
          ]
        }
      ]
    },
    {
      "cell_type": "code",
      "source": [
        "print(77&33)\n",
        "print(87&23)\n",
        "print(37|87)\n",
        "print(73|99)\n",
        "print(37<<3)\n",
        "print(77<<2)\n",
        "print(347>>87)\n",
        "print(999>>3)\n",
        "print(7>>3)\n",
        "print(9^3)\n",
        "print(73^32)"
      ],
      "metadata": {
        "colab": {
          "base_uri": "https://localhost:8080/"
        },
        "id": "CnxnexuxWPXF",
        "outputId": "94001f6d-c32a-422d-ce1a-38afb84cc0bf"
      },
      "execution_count": 11,
      "outputs": [
        {
          "output_type": "stream",
          "name": "stdout",
          "text": [
            "1\n",
            "23\n",
            "119\n",
            "107\n",
            "296\n",
            "308\n",
            "0\n",
            "124\n",
            "0\n",
            "10\n",
            "105\n"
          ]
        }
      ]
    }
  ]
}