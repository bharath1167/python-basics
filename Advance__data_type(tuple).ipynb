{
  "nbformat": 4,
  "nbformat_minor": 0,
  "metadata": {
    "colab": {
      "provenance": []
    },
    "kernelspec": {
      "name": "python3",
      "display_name": "Python 3"
    },
    "language_info": {
      "name": "python"
    }
  },
  "cells": [
    {
      "cell_type": "markdown",
      "source": [
        "# Tuple( ):\n",
        "\n",
        "\n",
        "*   Tuple is simply a pair of values grouped together in a fixed order.\n",
        "*   It is immutable(we cannot modify,change,update the variable)."
      ],
      "metadata": {
        "id": "vNzEQgEtJTDC"
      }
    },
    {
      "cell_type": "code",
      "source": [
        "a = (1,2.5,\"apple\")\n",
        "print(type(a))"
      ],
      "metadata": {
        "colab": {
          "base_uri": "https://localhost:8080/"
        },
        "id": "knTz0cxPJX4X",
        "outputId": "1c8cec1c-91b8-4723-e341-b219e3716858"
      },
      "execution_count": 1,
      "outputs": [
        {
          "output_type": "stream",
          "name": "stdout",
          "text": [
            "<class 'tuple'>\n"
          ]
        }
      ]
    },
    {
      "cell_type": "markdown",
      "source": [
        "# Indexing():\n",
        "\n",
        "\n",
        "*   Access using square brackets – Use tuple[index] to get an element.\n",
        "*   Positive Indexing – Access elements from the beginning using 0, 1, 2, ....\n",
        "*   Negative Indexing – Access elements from the end using -1, -2, -3, ...."
      ],
      "metadata": {
        "id": "YPILaAYMJihy"
      }
    },
    {
      "cell_type": "code",
      "source": [
        "a = (\"tuple is immutable\")\n",
        "a[1]"
      ],
      "metadata": {
        "colab": {
          "base_uri": "https://localhost:8080/",
          "height": 36
        },
        "id": "NhqlxVwuJphS",
        "outputId": "3eed79b6-d7b2-4938-fe99-a7dd52749392"
      },
      "execution_count": 2,
      "outputs": [
        {
          "output_type": "execute_result",
          "data": {
            "text/plain": [
              "'u'"
            ],
            "application/vnd.google.colaboratory.intrinsic+json": {
              "type": "string"
            }
          },
          "metadata": {},
          "execution_count": 2
        }
      ]
    },
    {
      "cell_type": "code",
      "source": [
        "a = (\"tuple is immutable\")\n",
        "a = [-8]"
      ],
      "metadata": {
        "id": "oTlj0wiqJwpH"
      },
      "execution_count": null,
      "outputs": []
    },
    {
      "cell_type": "markdown",
      "source": [
        "Slicing( ):\n",
        "\n",
        "\n",
        "*  Use [start:end] to extract a portion of a tuple.\n",
        "*  Slicing creates a new tuple without changing the original."
      ],
      "metadata": {
        "id": "7fGq7i7bJ8w9"
      }
    },
    {
      "cell_type": "code",
      "source": [
        "a = (\"tuple is immutable\")\n",
        "a[0:8]"
      ],
      "metadata": {
        "colab": {
          "base_uri": "https://localhost:8080/",
          "height": 36
        },
        "id": "4a2i_KeAKAtl",
        "outputId": "00907a23-258a-45e5-bd55-19556634049a"
      },
      "execution_count": 3,
      "outputs": [
        {
          "output_type": "execute_result",
          "data": {
            "text/plain": [
              "'tuple is'"
            ],
            "application/vnd.google.colaboratory.intrinsic+json": {
              "type": "string"
            }
          },
          "metadata": {},
          "execution_count": 3
        }
      ]
    },
    {
      "cell_type": "code",
      "source": [
        "a = (\"tuple is immutable\")\n",
        "a[-7:-1]"
      ],
      "metadata": {
        "colab": {
          "base_uri": "https://localhost:8080/",
          "height": 36
        },
        "id": "yEIxJ9j3KFA3",
        "outputId": "11b5a7fb-0800-426b-db0a-68645cb700fb"
      },
      "execution_count": 4,
      "outputs": [
        {
          "output_type": "execute_result",
          "data": {
            "text/plain": [
              "'mutabl'"
            ],
            "application/vnd.google.colaboratory.intrinsic+json": {
              "type": "string"
            }
          },
          "metadata": {},
          "execution_count": 4
        }
      ]
    },
    {
      "cell_type": "markdown",
      "source": [
        "type( ) function :\n",
        "*   The type() function returns the data type of a given object."
      ],
      "metadata": {
        "id": "w8EovwWrKIGn"
      }
    },
    {
      "cell_type": "code",
      "source": [
        "a = (\"tuple is immutable\")\n",
        "print(type(a))"
      ],
      "metadata": {
        "colab": {
          "base_uri": "https://localhost:8080/"
        },
        "id": "iwxMNKTVKNF1",
        "outputId": "8e3ace68-8e6f-429c-a5d0-c38b882fc8dd"
      },
      "execution_count": 5,
      "outputs": [
        {
          "output_type": "stream",
          "name": "stdout",
          "text": [
            "<class 'str'>\n"
          ]
        }
      ]
    },
    {
      "cell_type": "code",
      "source": [
        "a = (1,2.3,\"name\",True)\n",
        "print(type(a))"
      ],
      "metadata": {
        "colab": {
          "base_uri": "https://localhost:8080/"
        },
        "id": "8nrd94X0KTFS",
        "outputId": "164dae09-ce8a-4d3a-ed93-501e3fff12f0"
      },
      "execution_count": 6,
      "outputs": [
        {
          "output_type": "stream",
          "name": "stdout",
          "text": [
            "<class 'tuple'>\n"
          ]
        }
      ]
    },
    {
      "cell_type": "code",
      "source": [
        "a= (1,2,3,4)\n",
        "print(type(a))"
      ],
      "metadata": {
        "colab": {
          "base_uri": "https://localhost:8080/"
        },
        "id": "JVAj6YE9KWU7",
        "outputId": "0ed913fe-7004-4b17-f8c2-e37c188cd79b"
      },
      "execution_count": 7,
      "outputs": [
        {
          "output_type": "stream",
          "name": "stdout",
          "text": [
            "<class 'tuple'>\n"
          ]
        }
      ]
    },
    {
      "cell_type": "markdown",
      "source": [
        "# Tuple methods:\n",
        "1) len( ):\n",
        "\n",
        "\n",
        "*   The len() function returns the number of elements in a tuple.\n",
        "*   It helps in finding the size of a tuple quickly."
      ],
      "metadata": {
        "id": "Dp-YZa7SKaAY"
      }
    },
    {
      "cell_type": "code",
      "source": [
        "a = (\"tuple is immutable\")\n",
        "len(a)"
      ],
      "metadata": {
        "colab": {
          "base_uri": "https://localhost:8080/"
        },
        "id": "JdmGc4GxKeen",
        "outputId": "859fa435-6cc9-46e9-b479-eef676e77ae2"
      },
      "execution_count": 8,
      "outputs": [
        {
          "output_type": "execute_result",
          "data": {
            "text/plain": [
              "18"
            ]
          },
          "metadata": {},
          "execution_count": 8
        }
      ]
    },
    {
      "cell_type": "code",
      "source": [
        "a= (\"a\",\"b\",1,2,\"c\")\n",
        "len(a)"
      ],
      "metadata": {
        "colab": {
          "base_uri": "https://localhost:8080/"
        },
        "id": "IPASLJzqKiAq",
        "outputId": "5e279b12-2f11-449f-ce6a-42a1b122e0e1"
      },
      "execution_count": 9,
      "outputs": [
        {
          "output_type": "execute_result",
          "data": {
            "text/plain": [
              "5"
            ]
          },
          "metadata": {},
          "execution_count": 9
        }
      ]
    },
    {
      "cell_type": "markdown",
      "source": [
        "2) count( ):\n",
        "\n",
        "\n",
        "*   The count() function returns the number of times a specific element appears in a tuple."
      ],
      "metadata": {
        "id": "FbdCBTjYKnO9"
      }
    },
    {
      "cell_type": "code",
      "source": [
        "a = (\"tuple is immutable\")\n",
        "a.count(\"i\")"
      ],
      "metadata": {
        "colab": {
          "base_uri": "https://localhost:8080/"
        },
        "id": "mFLV8bl0Krkl",
        "outputId": "0f6627d2-f27d-4bb1-bd00-eeffa078eccd"
      },
      "execution_count": 10,
      "outputs": [
        {
          "output_type": "execute_result",
          "data": {
            "text/plain": [
              "2"
            ]
          },
          "metadata": {},
          "execution_count": 10
        }
      ]
    },
    {
      "cell_type": "code",
      "source": [
        "a = (\"tuple is immutable\")\n",
        "print(a.count(\"m\"))"
      ],
      "metadata": {
        "colab": {
          "base_uri": "https://localhost:8080/"
        },
        "id": "TTMqvMiJKzAf",
        "outputId": "1bf8e1cc-babe-476d-9b63-36ece5abe00c"
      },
      "execution_count": 11,
      "outputs": [
        {
          "output_type": "stream",
          "name": "stdout",
          "text": [
            "2\n"
          ]
        }
      ]
    },
    {
      "cell_type": "markdown",
      "source": [
        "3) index( ):\n",
        "\n",
        "\n",
        "*   Searches the tuple for a specified value and returns the position of where it was found."
      ],
      "metadata": {
        "id": "dmJuGMe9K3tO"
      }
    },
    {
      "cell_type": "code",
      "source": [
        "a = (\"tuple is immutable\")\n",
        "print(a.index(\"m\"))"
      ],
      "metadata": {
        "colab": {
          "base_uri": "https://localhost:8080/"
        },
        "id": "1AJ_e-p6K7hz",
        "outputId": "6ad03ac2-8169-40c8-fab6-b42609c0845a"
      },
      "execution_count": 12,
      "outputs": [
        {
          "output_type": "stream",
          "name": "stdout",
          "text": [
            "10\n"
          ]
        }
      ]
    }
  ]
}