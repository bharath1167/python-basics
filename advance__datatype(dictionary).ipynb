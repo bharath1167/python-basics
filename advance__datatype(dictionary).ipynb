{
  "nbformat": 4,
  "nbformat_minor": 0,
  "metadata": {
    "colab": {
      "provenance": []
    },
    "kernelspec": {
      "name": "python3",
      "display_name": "Python 3"
    },
    "language_info": {
      "name": "python"
    }
  },
  "cells": [
    {
      "cell_type": "markdown",
      "source": [
        "# dictionary( ):\n",
        "\n",
        "*    A Python dictionary stores data in key-value pairs, where each key is unique, and it maps to a corresponding value.\n",
        "*   Dictionaries are mutable (we can add, update, or remove key-value pairs after creation).\n",
        "*    Dictionaries are defined using curly braces {} with keys and values separated by colons,\n",
        "*    A dictionary cannot have duplicate keys; if a duplicate key is assigned a new value, the old value gets overwritten.\n",
        "*   Dictionaries can contain other dictionaries, allowing the creation of complex data structures"
      ],
      "metadata": {
        "id": "cHJAdwr7O0Vi"
      }
    },
    {
      "cell_type": "code",
      "source": [
        "person = {\"Name\":\"Bharath\",\"Age\":21,\"City\":\"Hyderabad\",\"DOB\":4}\n",
        "print(type(person))\n",
        "print(person)"
      ],
      "metadata": {
        "colab": {
          "base_uri": "https://localhost:8080/"
        },
        "id": "YgvCSxGCO94L",
        "outputId": "4410ddb0-62c5-4fa0-b66d-2e25fa25551a"
      },
      "execution_count": 2,
      "outputs": [
        {
          "output_type": "stream",
          "name": "stdout",
          "text": [
            "<class 'dict'>\n",
            "{'Name': 'Bharath', 'Age': 21, 'City': 'Hyderabad', 'DOB': 4}\n"
          ]
        }
      ]
    },
    {
      "cell_type": "markdown",
      "source": [
        "# Dictionary Methods:\n",
        "1) pop( ):\n",
        "*   Removes the item with the specified key name"
      ],
      "metadata": {
        "id": "N_CVxuWLPKGQ"
      }
    },
    {
      "cell_type": "code",
      "source": [
        "person = {\"Name\":\"Bharath\",\"Age\":21,\"City\":\"Hyderabad\",\"DOB\":4}\n",
        "person.popitem()"
      ],
      "metadata": {
        "colab": {
          "base_uri": "https://localhost:8080/"
        },
        "id": "AzGbBsxAPYde",
        "outputId": "32743a78-ac4f-473a-bdaf-905a2633c543"
      },
      "execution_count": 3,
      "outputs": [
        {
          "output_type": "execute_result",
          "data": {
            "text/plain": [
              "('DOB', 4)"
            ]
          },
          "metadata": {},
          "execution_count": 3
        }
      ]
    },
    {
      "cell_type": "code",
      "source": [
        "person = {\"Name\":\"Bharath\",\"Age\":21,\"City\":\"Hyderabad\",\"DOB\":4}\n",
        "person.pop(\"City\")"
      ],
      "metadata": {
        "colab": {
          "base_uri": "https://localhost:8080/",
          "height": 36
        },
        "id": "2JziTwumPgSB",
        "outputId": "78c321e2-3da9-471a-9468-11b524baf696"
      },
      "execution_count": 4,
      "outputs": [
        {
          "output_type": "execute_result",
          "data": {
            "text/plain": [
              "'Hyderabad'"
            ],
            "application/vnd.google.colaboratory.intrinsic+json": {
              "type": "string"
            }
          },
          "metadata": {},
          "execution_count": 4
        }
      ]
    },
    {
      "cell_type": "markdown",
      "source": [
        "2) update( ):\n",
        "*   Updates the dictionary with key-value pairs from another dictionary."
      ],
      "metadata": {
        "id": "CszVfXnzProu"
      }
    },
    {
      "cell_type": "code",
      "source": [
        "person = {\"Name\":\"Bharath\",\"Age\":21,\"City\":\"Hyderabad\",\"DOB\":4}"
      ],
      "metadata": {
        "id": "mQ2MFJQlPvUv"
      },
      "execution_count": 5,
      "outputs": []
    },
    {
      "cell_type": "code",
      "source": [
        "person.update({\"Age\": 26})\n",
        "print(person)"
      ],
      "metadata": {
        "colab": {
          "base_uri": "https://localhost:8080/"
        },
        "id": "2iuhqNatP8Tr",
        "outputId": "8a388a5a-6b73-456f-c9cf-b27cee505fce"
      },
      "execution_count": 6,
      "outputs": [
        {
          "output_type": "stream",
          "name": "stdout",
          "text": [
            "{'Name': 'Bharath', 'Age': 26, 'City': 'Hyderabad', 'DOB': 4}\n"
          ]
        }
      ]
    },
    {
      "cell_type": "code",
      "source": [
        "person.update({\"Email\":\"bharath@gmail.com\"})\n",
        "print(person)"
      ],
      "metadata": {
        "colab": {
          "base_uri": "https://localhost:8080/"
        },
        "id": "dWvkWvGtQCIh",
        "outputId": "7cb3a587-789d-40ff-f7a3-fdb3379841a6"
      },
      "execution_count": 7,
      "outputs": [
        {
          "output_type": "stream",
          "name": "stdout",
          "text": [
            "{'Name': 'Bharath', 'Age': 26, 'City': 'Hyderabad', 'DOB': 4, 'Email': 'bharath@gmail.com'}\n"
          ]
        }
      ]
    },
    {
      "cell_type": "markdown",
      "source": [
        "3) dict.keys():\n",
        "\n",
        "\n",
        "*   Returns a view object of all the keys in the dictionary."
      ],
      "metadata": {
        "id": "Egi0xRPcQIKG"
      }
    },
    {
      "cell_type": "code",
      "source": [
        "person = {\"Name\":\"Bharath\",\"Age\":21,\"City\":\"Hyderabad\",\"DOB\":4,\"Email\":\"nithish@gmail.com\"}\n",
        "person.keys()"
      ],
      "metadata": {
        "colab": {
          "base_uri": "https://localhost:8080/"
        },
        "id": "efniJkR6QNj4",
        "outputId": "cb49d40b-e2cb-45a4-b86b-3ac884d1ed83"
      },
      "execution_count": 8,
      "outputs": [
        {
          "output_type": "execute_result",
          "data": {
            "text/plain": [
              "dict_keys(['Name', 'Age', 'City', 'DOB', 'Email'])"
            ]
          },
          "metadata": {},
          "execution_count": 8
        }
      ]
    },
    {
      "cell_type": "code",
      "source": [
        "a = {1:\"a\",2:\"b\",3:\"c\"}\n",
        "a.keys()"
      ],
      "metadata": {
        "colab": {
          "base_uri": "https://localhost:8080/"
        },
        "id": "yvAylFV3QhZA",
        "outputId": "4c5278f7-af48-48b9-f9ff-aa23794e3b33"
      },
      "execution_count": 9,
      "outputs": [
        {
          "output_type": "execute_result",
          "data": {
            "text/plain": [
              "dict_keys([1, 2, 3])"
            ]
          },
          "metadata": {},
          "execution_count": 9
        }
      ]
    },
    {
      "cell_type": "markdown",
      "source": [
        "# 4) dict.values():\n",
        "### *   Returns a view object of all the values in the dictionary."
      ],
      "metadata": {
        "id": "QbGbYBwnQpuH"
      }
    },
    {
      "cell_type": "code",
      "source": [
        "person = {\"Name\":\"Bharath\",\"Age\":21,\"City\":\"Hyderabad\",\"DOB\":4,\"Email\":\"nithish@gmail.com\"}\n",
        "person.values()"
      ],
      "metadata": {
        "colab": {
          "base_uri": "https://localhost:8080/"
        },
        "id": "OPiCAwx-Q10b",
        "outputId": "ae89fdba-1ee8-425b-de33-e774aedbc01e"
      },
      "execution_count": 10,
      "outputs": [
        {
          "output_type": "execute_result",
          "data": {
            "text/plain": [
              "dict_values(['Bharath', 21, 'Hyderabad', 4, 'nithish@gmail.com'])"
            ]
          },
          "metadata": {},
          "execution_count": 10
        }
      ]
    },
    {
      "cell_type": "markdown",
      "source": [
        "5) dict.items( ):\n",
        "\n",
        "*   Returns a view object containing key-value pairs as tuples."
      ],
      "metadata": {
        "id": "DQTgfTsjQ8xB"
      }
    },
    {
      "cell_type": "code",
      "source": [
        "person = {\"Name\":\"Bharath\",\"Age\":21,\"City\":\"Hyderabad\",\"DOB\":4,\"Email\":\"nithish@gmail.com\"}\n",
        "print(person.items())"
      ],
      "metadata": {
        "colab": {
          "base_uri": "https://localhost:8080/"
        },
        "id": "34OjESOsRBnb",
        "outputId": "452e82fd-ec8e-4b95-a162-314588708d7b"
      },
      "execution_count": 14,
      "outputs": [
        {
          "output_type": "stream",
          "name": "stdout",
          "text": [
            "dict_items([('Name', 'Bharath'), ('Age', 21), ('City', 'Hyderabad'), ('DOB', 4), ('Email', 'nithish@gmail.com')])\n"
          ]
        }
      ]
    },
    {
      "cell_type": "code",
      "source": [
        "a = {1:\"a\",2:\"b\",3:\"c\"}\n",
        "print(a.items())"
      ],
      "metadata": {
        "colab": {
          "base_uri": "https://localhost:8080/"
        },
        "id": "UcZ0Oj8oRHbN",
        "outputId": "a4cd61ad-c9b5-4758-f060-9d67d13b7525"
      },
      "execution_count": 15,
      "outputs": [
        {
          "output_type": "stream",
          "name": "stdout",
          "text": [
            "dict_items([(1, 'a'), (2, 'b'), (3, 'c')])\n"
          ]
        }
      ]
    },
    {
      "cell_type": "markdown",
      "source": [
        "6) dict.copy( ):\n",
        "*   Returns a shallow copy of the dictionary."
      ],
      "metadata": {
        "id": "3KbtI1GHRLdk"
      }
    },
    {
      "cell_type": "code",
      "source": [
        "person2 = person.copy()\n",
        "print(person)\n",
        "print(person2)"
      ],
      "metadata": {
        "colab": {
          "base_uri": "https://localhost:8080/"
        },
        "id": "xo7uJ1D1RP2U",
        "outputId": "84500cf5-a58e-42a1-a76b-c1cb482c45aa"
      },
      "execution_count": 16,
      "outputs": [
        {
          "output_type": "stream",
          "name": "stdout",
          "text": [
            "{'Name': 'Bharath', 'Age': 21, 'City': 'Hyderabad', 'DOB': 4, 'Email': 'nithish@gmail.com'}\n",
            "{'Name': 'Bharath', 'Age': 21, 'City': 'Hyderabad', 'DOB': 4, 'Email': 'nithish@gmail.com'}\n"
          ]
        }
      ]
    },
    {
      "cell_type": "code",
      "source": [
        "a = {1:\"a\",2:\"b\",3:\"c\"}\n",
        "b = a.copy()\n",
        "print(a)\n",
        "print(b)"
      ],
      "metadata": {
        "colab": {
          "base_uri": "https://localhost:8080/"
        },
        "id": "s6ArQ7h8RY1i",
        "outputId": "76530f5e-2d73-4ee4-e3c5-a47ca589fe60"
      },
      "execution_count": 17,
      "outputs": [
        {
          "output_type": "stream",
          "name": "stdout",
          "text": [
            "{1: 'a', 2: 'b', 3: 'c'}\n",
            "{1: 'a', 2: 'b', 3: 'c'}\n"
          ]
        }
      ]
    },
    {
      "cell_type": "markdown",
      "source": [
        "7) dict.clear( ):\n",
        "*   Removes all items from the dictionary"
      ],
      "metadata": {
        "id": "DqGlk07kRdnx"
      }
    },
    {
      "cell_type": "code",
      "source": [
        "person.clear()\n",
        "print(person)\n",
        "print(person2)"
      ],
      "metadata": {
        "colab": {
          "base_uri": "https://localhost:8080/"
        },
        "id": "n5EhTyaQRmwq",
        "outputId": "2df0420b-5d5c-451d-f7b9-d293d04ced3a"
      },
      "execution_count": 18,
      "outputs": [
        {
          "output_type": "stream",
          "name": "stdout",
          "text": [
            "{}\n",
            "{'Name': 'Bharath', 'Age': 21, 'City': 'Hyderabad', 'DOB': 4, 'Email': 'nithish@gmail.com'}\n"
          ]
        }
      ]
    },
    {
      "cell_type": "code",
      "source": [
        "a.clear()\n",
        "print(a)\n",
        "print(b)"
      ],
      "metadata": {
        "colab": {
          "base_uri": "https://localhost:8080/"
        },
        "id": "VJgFDas0RtTy",
        "outputId": "bf73e341-3261-48e7-b023-cba3efb05ac0"
      },
      "execution_count": 20,
      "outputs": [
        {
          "output_type": "stream",
          "name": "stdout",
          "text": [
            "{}\n",
            "{1: 'a', 2: 'b', 3: 'c'}\n"
          ]
        }
      ]
    }
  ]
}