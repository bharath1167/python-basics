{
  "nbformat": 4,
  "nbformat_minor": 0,
  "metadata": {
    "colab": {
      "provenance": []
    },
    "kernelspec": {
      "name": "python3",
      "display_name": "Python 3"
    },
    "language_info": {
      "name": "python"
    }
  },
  "cells": [
    {
      "cell_type": "markdown",
      "source": [
        "# Functions:\n",
        "*   Functions are blocks of reusable code that perform a specific task.\n",
        "*   They make the code more modular, readable, and efficient.\n",
        "*   We have two types in functions:\n",
        "    1.   Built-in Function: That are ready to use.\n",
        "    2.   User define functions: are created by the programmer for specific tasks."
      ],
      "metadata": {
        "id": "Dlkx1vtl1XPW"
      }
    },
    {
      "cell_type": "code",
      "source": [
        "#syntax\n",
        "def function_name (parameters):\n",
        "\n",
        "  statement(s)\n",
        "\n",
        "  return (#optional)"
      ],
      "metadata": {
        "id": "y4vf0aMS1a6B"
      },
      "execution_count": null,
      "outputs": []
    },
    {
      "cell_type": "code",
      "source": [
        "a = int(input(\"Enter a number: \"))\n",
        "b = int(input(\"Enter a number: \"))\n",
        "def arth(a,b):\n",
        "  sum = a+b\n",
        "  sub = a-b\n",
        "  mul = a*b\n",
        "  div = a/b\n",
        "  mod = a%b\n",
        "  return sum,sub,mul,div,mod\n",
        "arth(a,b)"
      ],
      "metadata": {
        "colab": {
          "base_uri": "https://localhost:8080/"
        },
        "id": "gUBUGWHr1fc5",
        "outputId": "87d46300-eb84-42e6-a64a-80368a6806f0"
      },
      "execution_count": 1,
      "outputs": [
        {
          "name": "stdout",
          "output_type": "stream",
          "text": [
            "Enter a number: 3\n",
            "Enter a number: 78\n"
          ]
        },
        {
          "output_type": "execute_result",
          "data": {
            "text/plain": [
              "(81, -75, 234, 0.038461538461538464, 3)"
            ]
          },
          "metadata": {},
          "execution_count": 1
        }
      ]
    },
    {
      "cell_type": "code",
      "source": [
        "user = input(\"enter a string: \")\n",
        "vowels = ['a','e','i','o','u','A','E','I','O','U']\n",
        "for i in user:\n",
        "  if i in vowels:\n",
        "    print(i,\"is vowel\")\n",
        "  else:\n",
        "    print(i,\"is not vowel\")"
      ],
      "metadata": {
        "colab": {
          "base_uri": "https://localhost:8080/"
        },
        "id": "2WWEfS9t1pj8",
        "outputId": "77c380de-da1b-48b4-aad8-0015d9b02d28"
      },
      "execution_count": 2,
      "outputs": [
        {
          "output_type": "stream",
          "name": "stdout",
          "text": [
            "enter a string: bharath\n",
            "b is not vowel\n",
            "h is not vowel\n",
            "a is vowel\n",
            "r is not vowel\n",
            "a is vowel\n",
            "t is not vowel\n",
            "h is not vowel\n"
          ]
        }
      ]
    },
    {
      "cell_type": "markdown",
      "source": [
        "# return function:\n",
        "*  The return statement gives back a value from a function\n",
        "*  It stops the function and sends a result back to where it was called.\n",
        "*  Can return multiple values as a tuple.\n",
        "*   A function can have multiple return statements but executes only one."
      ],
      "metadata": {
        "id": "8iKKjruP14I7"
      }
    },
    {
      "cell_type": "code",
      "source": [
        "def mul(a,b):\n",
        "  mul=a*b\n",
        "  return mul\n",
        "mul(2,3)"
      ],
      "metadata": {
        "colab": {
          "base_uri": "https://localhost:8080/"
        },
        "id": "ipXmnK1L1_wh",
        "outputId": "043b5f5c-cd5e-4755-a983-8a52344211ff"
      },
      "execution_count": 3,
      "outputs": [
        {
          "output_type": "execute_result",
          "data": {
            "text/plain": [
              "6"
            ]
          },
          "metadata": {},
          "execution_count": 3
        }
      ]
    },
    {
      "cell_type": "markdown",
      "source": [
        "# Lambda Function:\n",
        "\n",
        "*   They can take multiple arguments but must have only one expression.\n",
        "*   They don’t require a def keyword or a function name."
      ],
      "metadata": {
        "id": "1oQKVav-2FEj"
      }
    },
    {
      "cell_type": "code",
      "source": [
        "a = lambda x,y :x+y\n",
        "print(a(22,4))"
      ],
      "metadata": {
        "colab": {
          "base_uri": "https://localhost:8080/"
        },
        "id": "5d98yBpp2JYo",
        "outputId": "04016000-fda6-47e0-c9fe-62ee2facda9d"
      },
      "execution_count": 4,
      "outputs": [
        {
          "output_type": "stream",
          "name": "stdout",
          "text": [
            "26\n"
          ]
        }
      ]
    },
    {
      "cell_type": "code",
      "source": [
        "def find():\n",
        "  lam = lambda x,y:x*y\n",
        "  return lam\n",
        "\n",
        "h=find()\n",
        "print(h(22,4))"
      ],
      "metadata": {
        "colab": {
          "base_uri": "https://localhost:8080/"
        },
        "id": "l05R055M2Mnc",
        "outputId": "f191cd37-0037-46a1-f2e3-c8e6a134a298"
      },
      "execution_count": 5,
      "outputs": [
        {
          "output_type": "stream",
          "name": "stdout",
          "text": [
            "88\n"
          ]
        }
      ]
    },
    {
      "cell_type": "markdown",
      "source": [
        "# Global Variable:\n",
        "*   Used to declare a variable as global inside a function.\n",
        "*   Allows modifying a global variable inside a function.\n",
        "*   Declared using the global keyword."
      ],
      "metadata": {
        "id": "Ym-NY6Ma2RN9"
      }
    },
    {
      "cell_type": "markdown",
      "source": [
        "# Local Variable:\n",
        "*   Variables created inside a function are local to that function.\n",
        "*   They cannot be accessed outside the function.\n",
        "*   Automatically deleted after the function finishes execution."
      ],
      "metadata": {
        "id": "ii0K0Fmg2U5w"
      }
    },
    {
      "cell_type": "code",
      "source": [
        "global_var = \"Hello_World\"    #global function\n",
        "\n",
        "def local():\n",
        "  local_var = \"this is local function\"\n",
        "  print(local_var)\n"
      ],
      "metadata": {
        "id": "A1Akv_MJ2Zaf"
      },
      "execution_count": 7,
      "outputs": []
    },
    {
      "cell_type": "code",
      "source": [
        "local()"
      ],
      "metadata": {
        "colab": {
          "base_uri": "https://localhost:8080/"
        },
        "id": "c-i_iom02fQX",
        "outputId": "a06371b5-7d96-42a7-c127-edb0096a4398"
      },
      "execution_count": 8,
      "outputs": [
        {
          "output_type": "stream",
          "name": "stdout",
          "text": [
            "this is local function\n"
          ]
        }
      ]
    },
    {
      "cell_type": "code",
      "source": [
        "print(global_var)"
      ],
      "metadata": {
        "colab": {
          "base_uri": "https://localhost:8080/"
        },
        "id": "WwHATq_O2lhy",
        "outputId": "d84bad47-449d-41e2-dbe7-d353ec6d96a5"
      },
      "execution_count": 9,
      "outputs": [
        {
          "output_type": "stream",
          "name": "stdout",
          "text": [
            "Hello_World\n"
          ]
        }
      ]
    }
  ]
}