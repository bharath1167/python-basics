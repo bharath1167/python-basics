{
  "nbformat": 4,
  "nbformat_minor": 0,
  "metadata": {
    "colab": {
      "provenance": []
    },
    "kernelspec": {
      "name": "python3",
      "display_name": "Python 3"
    },
    "language_info": {
      "name": "python"
    }
  },
  "cells": [
    {
      "cell_type": "markdown",
      "source": [
        "# What is DataType:\n",
        "\n",
        "\n",
        "* A Datatype is a classification that tells the computer what type of value a variable can hold.\n",
        "* Datatypes help the computer understand how to store and process the data correctly.\n",
        "* Datatypes are just labels that make sure the computer knows what kind of information it’s handling"
      ],
      "metadata": {
        "id": "dQEzO3B1-xh3"
      }
    },
    {
      "cell_type": "code",
      "source": [
        "# Example For Integer\n",
        "a = 10\n",
        "b = 5 + 3\n",
        "c = 15 - 7\n",
        "d = 4 * 3\n",
        "e = 10 // 3\n",
        "f = 10 % 3\n",
        "g = int(\"123\")\n",
        "h = 50\n",
        "age = 18\n",
        "\n",
        "#Examples For Float\n",
        "x = 10.5\n",
        "y = 5.2 + 3.8\n",
        "z = 2.5 * 4\n",
        "a = 10 / 2\n",
        "b = 3.14 * 2\n",
        "c = round(7.567, 2)\n",
        "d = float(7)\n",
        "e = 9.81\n",
        "numbers = [1.1, 2.2, 3.3]\n",
        "\n",
        "#Examples For Complex\n",
        "a = 2 + 3j\n",
        "b = (3 + 4j) + (1 + 2j)\n",
        "c = (2 + 3j) * (1 + 1j)\n",
        "d = a.real\n",
        "e = a.imag\n",
        "f = 4 + 5j\n",
        "h = (2 + 3j) / (1 + 1j)\n",
        "\n",
        "#Examples For Boolean\n",
        "a = True\n",
        "b = 5 > 3\n",
        "c = (10 == 10)\n",
        "d = (10 != 5)\n",
        "e = True and False #using AND logical operator\n",
        "f = True or False  #using OR operator\n",
        "g = not True\n",
        "h = bool(1)  # Non-zero numbers are True\n",
        "i = bool(\"\")  # Empty string is False"
      ],
      "metadata": {
        "id": "tFUoE9Z8-8E_"
      },
      "execution_count": null,
      "outputs": []
    },
    {
      "cell_type": "markdown",
      "source": [
        "# Type Converssion in Python:\n",
        "Type conversion is the process of converting a variable from one datatype to another."
      ],
      "metadata": {
        "id": "rxhi-4-h_Fi_"
      }
    },
    {
      "cell_type": "code",
      "source": [
        "#Examples\n",
        "#1.Convert int to float\n",
        "x = 10\n",
        "y = float(x)\n",
        "print(y, type(y))\n",
        "\n",
        "#2.Convert float to int\n",
        "a = 9.99\n",
        "b = int(a)\n",
        "print(b, type(b))\n",
        "\n",
        "#3.Convert int to complex\n",
        "x = 7\n",
        "y = complex(x)\n",
        "print(y, type(y))\n",
        "\n",
        "#4.Positive Float to Boolean\n",
        "x = 3.14\n",
        "y = bool(x)\n",
        "print(y, type(y))"
      ],
      "metadata": {
        "colab": {
          "base_uri": "https://localhost:8080/"
        },
        "id": "sQ6GVRec_MrO",
        "outputId": "81b9a45c-decd-40ca-cc4a-3715a03392f2"
      },
      "execution_count": 1,
      "outputs": [
        {
          "output_type": "stream",
          "name": "stdout",
          "text": [
            "10.0 <class 'float'>\n",
            "9 <class 'int'>\n",
            "(7+0j) <class 'complex'>\n",
            "True <class 'bool'>\n"
          ]
        }
      ]
    }
  ]
}