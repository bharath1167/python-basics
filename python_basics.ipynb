{
  "nbformat": 4,
  "nbformat_minor": 0,
  "metadata": {
    "colab": {
      "provenance": []
    },
    "kernelspec": {
      "name": "python3",
      "display_name": "Python 3"
    },
    "language_info": {
      "name": "python"
    }
  },
  "cells": [
    {
      "cell_type": "code",
      "execution_count": null,
      "metadata": {
        "id": "GJCr-nls4JLa"
      },
      "outputs": [],
      "source": []
    },
    {
      "cell_type": "markdown",
      "source": [
        "# What is python?\n",
        "Python is a programming language that is used for a variety of tasks, including web development, data analysis, and machine learning. It is known for being easy to learn, efficient, and versatile."
      ],
      "metadata": {
        "id": "vEbj6moa4kmR"
      }
    },
    {
      "cell_type": "markdown",
      "source": [
        "# why we use python\n",
        "Python is one of the most popular programming languages because of its simplicity, versatility, and powerful libraries and also used for many tasks, including:\n",
        "*   data analysis\n",
        "*   machine learning\n",
        "*   Web development\n",
        "*   Data visualization\n",
        "*   Artificial intelligence\n",
        "*   Scientific computing  \n",
        "\n"
      ],
      "metadata": {
        "id": "gQLEFHJJ4ysk"
      }
    },
    {
      "cell_type": "code",
      "source": [],
      "metadata": {
        "id": "WPLi4pfy6NR0"
      },
      "execution_count": null,
      "outputs": []
    },
    {
      "cell_type": "markdown",
      "source": [
        "# Applications of Python\n",
        "\n",
        "### 1. Web Development\n",
        "   - Use Case: Websites like Instagram, Pinterest, and Reddit use Python-based frameworks (Django, Flask) to manage their backends.\n",
        "\n",
        "### 2. Data Science & Analytics\n",
        "   - Use Case: Companies like Netflix and Amazon analyze user data using Python (with Pandas, NumPy) to recommend movies and products.\n",
        "\n",
        "### 3. Machine Learning & AI\n",
        "   - Use Case: Google uses Python-based TensorFlow for image recognition, voice assistants, and AI-driven search improvements.\n",
        "\n",
        "### 4. Cybersecurity\n",
        "   - Use Case: Ethical hackers use Python scripts for penetration testing and security analysis.\n",
        "\n",
        "### 5. Automation & Scripting\n",
        "   - Use Case: Businesses use Python to automate repetitive tasks like sending emails, renaming files, and scraping web data.\n",
        "\n",
        "### 6. Game Development\n",
        "   - **Use Case:** Games like Civilization IV use Python for logic scripting.\n",
        "\n",
        "### 7. Networking & Cloud Computing\n",
        "   - Use Case: Python is used for managing cloud platforms (AWS, OpenStack) and network automation.\n",
        "\n",
        "### 8. Internet of Things (IoT)\n",
        "   - Use Case: Raspberry Pi projects use Python to control home automation devices.\n",
        "\n",
        "### 9. Finance & FinTech\n",
        "   - Use Case: Banks and investment firms use Python for stock market predictions and risk analysis.\n",
        "\n",
        "### 10. Bioinformatics & Healthcare\n",
        "   - Use Case: Researchers use Python in DNA sequencing and medical image analysis.\n",
        "\n",
        "\n",
        "\n",
        "\n",
        "\n"
      ],
      "metadata": {
        "id": "_5vQ4S5C5zXB"
      }
    },
    {
      "cell_type": "markdown",
      "source": [
        "# Explain About Comments With An Example\n",
        "\n",
        "Comments in Python are lines in the code that are ignored by the interpreter. They are used to explain the code, making it easier to understand. Comments are useful for:\n",
        "- Adding explanations for complex logic\n",
        "- Making notes for future reference\n",
        "- Disabling a line of code temporarily\n",
        "\n",
        "#Types of Comments in Python\n",
        "1. Single-line Comment (`#`)  \n",
        "2. Multi-line Comment (`''' or \"\"\"`)"
      ],
      "metadata": {
        "id": "yCLjp4-D9Xq7"
      }
    },
    {
      "cell_type": "markdown",
      "source": [
        "#  Keywords in Python\n",
        "Keywords in Python are reserved words that have special meanings and cannot be used as variable names, function names, or identifiers. They are used to define the structure and logic of the Python program.\n",
        "1.  False      \n",
        "2.  await      \n",
        "3.  else       \n",
        "4.  import     \n",
        "5.  pass  \n",
        "6.  None       \n",
        "7.  break      \n",
        "8.  except     \n",
        "9.  in         \n",
        "10. raise  \n",
        "11. True       \n",
        "12. class      \n",
        "13. finally    \n",
        "14. is         \n",
        "15. return  \n",
        "16. and        \n",
        "17. continue   \n",
        "18. for        \n",
        "19. lambda     \n",
        "20. try  \n",
        "21. as         \n",
        "22. def        \n",
        "23. from       \n",
        "24. nonlocal   \n",
        "25. while  \n",
        "26. assert     \n",
        "27. del        \n",
        "28. global     \n",
        "29. not        \n",
        "30. with  \n",
        "31. async      \n",
        "32. elif       \n",
        "33. if         \n",
        "34. or         \n",
        "35. yield  "
      ],
      "metadata": {
        "id": "FwKHlPdd9qez"
      }
    },
    {
      "cell_type": "markdown",
      "source": [
        "# What is a Variable in Python?\n",
        "A variable in Python is a name that stores data. It acts like a container where you can store values and use them later in the program.\n",
        "\n",
        "---\n",
        "\n",
        "#Rules for Naming Variables\n",
        "1. Must start with a letter (A-Z or a-z) or an underscore (_).\n",
        "2. Cannot start with a number.\n",
        "3. Special Characters are not allowed.\n",
        "4. Variables are Case-sensitive (`myVar` and `myvar` are different).\n",
        "5. Cannot be a Python keyword (e.g., `if`, `for`, `while`)."
      ],
      "metadata": {
        "id": "Zcl3G8fp95S0"
      }
    },
    {
      "cell_type": "code",
      "source": [
        "#Example of Variables in Python\n",
        "\n",
        "# Assigning values to variables\n",
        "name = \"Alice\"       # String variable\n",
        "age = 25            # Integer variable\n",
        "height = 5.7        # Float variable\n",
        "is_student = True   # Boolean variable\n",
        "\n",
        "# Printing variables\n",
        "print(name)\n",
        "print(age)\n",
        "print(height)\n",
        "print(is_student)"
      ],
      "metadata": {
        "colab": {
          "base_uri": "https://localhost:8080/"
        },
        "id": "YKBB5Kbw-Kd3",
        "outputId": "8177c6c1-d636-439f-f230-b91eb53ea94c"
      },
      "execution_count": 1,
      "outputs": [
        {
          "output_type": "stream",
          "name": "stdout",
          "text": [
            "Alice\n",
            "25\n",
            "5.7\n",
            "True\n"
          ]
        }
      ]
    },
    {
      "cell_type": "markdown",
      "source": [],
      "metadata": {
        "id": "OpjpV46V49Vb"
      }
    }
  ]
}