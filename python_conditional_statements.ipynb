{
  "nbformat": 4,
  "nbformat_minor": 0,
  "metadata": {
    "colab": {
      "provenance": []
    },
    "kernelspec": {
      "name": "python3",
      "display_name": "Python 3"
    },
    "language_info": {
      "name": "python"
    }
  },
  "cells": [
    {
      "cell_type": "markdown",
      "source": [
        "# # Conditional Statements:\n",
        "**1) If statement:** If statement is the simplest form of a conditional statement. It executes a block of code if the given condition is true."
      ],
      "metadata": {
        "id": "wMNzLfcxS9Ug"
      }
    },
    {
      "cell_type": "code",
      "source": [
        "a = int(input(\"Enter a number:\"))\n",
        "if a > 0:\n",
        "  print(\"Given Number is positive\")"
      ],
      "metadata": {
        "colab": {
          "base_uri": "https://localhost:8080/"
        },
        "id": "CJn7cgyiTEAH",
        "outputId": "fbea9178-77b6-4ab1-aea2-82e973427b99"
      },
      "execution_count": 2,
      "outputs": [
        {
          "output_type": "stream",
          "name": "stdout",
          "text": [
            "Enter a number:2\n",
            "Given Number is positive\n"
          ]
        }
      ]
    },
    {
      "cell_type": "markdown",
      "source": [
        "**2) if-else( ):**Executes one block if the condition is True then gives the output, otherwise executes another block."
      ],
      "metadata": {
        "id": "pbIJ4XZlTRFo"
      }
    },
    {
      "cell_type": "code",
      "source": [
        "a = int(input(\"Enter your age\"))\n",
        "if a >= 18:\n",
        "  print(\"You are eligible for voting\")\n",
        "else:\n",
        "  print(\"You are not eligible for voting\")"
      ],
      "metadata": {
        "colab": {
          "base_uri": "https://localhost:8080/"
        },
        "id": "MtoXKnyAThxW",
        "outputId": "400ace2c-1c5a-4dd7-c927-fb41ec284781"
      },
      "execution_count": 3,
      "outputs": [
        {
          "output_type": "stream",
          "name": "stdout",
          "text": [
            "Enter your age45\n",
            "You are eligible for voting\n"
          ]
        }
      ]
    },
    {
      "cell_type": "markdown",
      "source": [
        "**3) elif:** Allows checking multiple conditions."
      ],
      "metadata": {
        "id": "yJd4I7iRTosM"
      }
    },
    {
      "cell_type": "code",
      "source": [
        "a = int(input(\"Enter a number:\"))\n",
        "if a > 0:\n",
        "  print(\"Given number is positive\")\n",
        "elif a < 0:\n",
        "  print(\"Given number is negative\")\n",
        "else:\n",
        "  print(\"Given number is zero\")"
      ],
      "metadata": {
        "colab": {
          "base_uri": "https://localhost:8080/"
        },
        "id": "izSsVoIbTtfc",
        "outputId": "6d6f8045-21f8-4179-d0a9-3507cc12cc0f"
      },
      "execution_count": 4,
      "outputs": [
        {
          "output_type": "stream",
          "name": "stdout",
          "text": [
            "Enter a number:-4\n",
            "Given number is negative\n"
          ]
        }
      ]
    },
    {
      "cell_type": "markdown",
      "source": [
        "#  Practice test Questions:"
      ],
      "metadata": {
        "id": "GK5JrwjTT1mB"
      }
    },
    {
      "cell_type": "code",
      "source": [
        "# write a python program to find even number\n",
        "a = int(input(\"Enter a Number\"))\n",
        "if a%2 == 0:\n",
        "  print(\"a is even number\")\n",
        "else:\n",
        "  print(\"a is odd number\")"
      ],
      "metadata": {
        "colab": {
          "base_uri": "https://localhost:8080/"
        },
        "id": "SNPq-2C-T9zR",
        "outputId": "acf21ed6-f72d-4195-a0ad-4179c2f66cd2"
      },
      "execution_count": 5,
      "outputs": [
        {
          "output_type": "stream",
          "name": "stdout",
          "text": [
            "Enter a Number24\n",
            "a is even number\n"
          ]
        }
      ]
    },
    {
      "cell_type": "code",
      "source": [
        "# write a program to find smallest number among them\n",
        "a,b,c = 11,22,3\n",
        "if a<b and a<c:\n",
        "  print(\" a is smaller number\")\n",
        "elif b<a and b<c:\n",
        "  print(\"b is smaller number\")\n",
        "else:\n",
        "  print(\"c is smaller number\")"
      ],
      "metadata": {
        "colab": {
          "base_uri": "https://localhost:8080/"
        },
        "id": "ucX_5QukUEcK",
        "outputId": "576d4356-e403-4973-d8d4-4f16d458066e"
      },
      "execution_count": 6,
      "outputs": [
        {
          "output_type": "stream",
          "name": "stdout",
          "text": [
            "c is smaller number\n"
          ]
        }
      ]
    },
    {
      "cell_type": "code",
      "source": [
        "# write a program to find maximum among three numbers\n",
        "a,b,c = 11,22,333\n",
        "if a>b and a>c:\n",
        "  print(\"a is greater number\")\n",
        "elif b>a and b>c:\n",
        "  print(\"b is greater number\")\n",
        "else:\n",
        "  print(\"c is greater number\")"
      ],
      "metadata": {
        "colab": {
          "base_uri": "https://localhost:8080/"
        },
        "id": "W4PjpP9iUJmC",
        "outputId": "e39fd0e8-f71a-416d-b9d2-618b6ea846de"
      },
      "execution_count": 7,
      "outputs": [
        {
          "output_type": "stream",
          "name": "stdout",
          "text": [
            "c is greater number\n"
          ]
        }
      ]
    },
    {
      "cell_type": "code",
      "source": [
        "# write a pyhton program for grading system\n",
        "marks = int(input(\"Enter Your Marks: \"))\n",
        "if marks >= 90:\n",
        "  print(\"Grade A\")\n",
        "elif marks >= 80 and marks <90:\n",
        "  print(\"Grade B\")\n",
        "elif marks >= 70 and marks <80:\n",
        "  print(\"Grade C\")\n",
        "elif marks >= 60 and marks <70:\n",
        "  print(\"Grade D\")\n",
        "else:\n",
        "  print(\"You Are Fail\")"
      ],
      "metadata": {
        "colab": {
          "base_uri": "https://localhost:8080/"
        },
        "id": "7Zt2_wbCUPxg",
        "outputId": "d902c080-7ed4-468d-ab9c-3acc64002478"
      },
      "execution_count": 8,
      "outputs": [
        {
          "output_type": "stream",
          "name": "stdout",
          "text": [
            "Enter Your Marks: 50\n",
            "You Are Fail\n"
          ]
        }
      ]
    },
    {
      "cell_type": "code",
      "source": [
        "# write a program to find given char is vowel or not\n",
        "char = input(\"Enter a character: \")\n",
        "if char in \"aeiouAEIOU\":\n",
        "  print(\" is a vowel.\")\n",
        "else:\n",
        "  print(\"is not a vowel.\")"
      ],
      "metadata": {
        "colab": {
          "base_uri": "https://localhost:8080/"
        },
        "id": "R9fqbolEUXHX",
        "outputId": "56f4587e-9730-4cb9-dcc8-d89ffbd06911"
      },
      "execution_count": 9,
      "outputs": [
        {
          "output_type": "stream",
          "name": "stdout",
          "text": [
            "Enter a character: aeiou\n",
            " is a vowel.\n"
          ]
        }
      ]
    },
    {
      "cell_type": "code",
      "source": [
        "# write a program to swap two numbers\n",
        "a = 10\n",
        "b = 20\n",
        "a,b = b,a\n",
        "print(a)\n",
        "print(b)"
      ],
      "metadata": {
        "colab": {
          "base_uri": "https://localhost:8080/"
        },
        "id": "I3p3dSOUUfUa",
        "outputId": "3a297bcb-8cc1-4984-cd21-afc2add046d1"
      },
      "execution_count": 10,
      "outputs": [
        {
          "output_type": "stream",
          "name": "stdout",
          "text": [
            "20\n",
            "10\n"
          ]
        }
      ]
    },
    {
      "cell_type": "code",
      "source": [
        "a = int(input(\"enter a number\"))\n",
        "b = int(input(\"Enter a number\"))\n",
        "if a!= b:\n",
        "  a = a+b\n",
        "  b = a-b\n",
        "  a = a-b\n",
        "  print(a)\n",
        "  print(b)\n",
        "else:\n",
        "  print(\"Both numbers are equal\")"
      ],
      "metadata": {
        "colab": {
          "base_uri": "https://localhost:8080/"
        },
        "id": "y3iF8EoUUkPd",
        "outputId": "9bab4cc3-1f32-4283-bd1c-672fffd299c1"
      },
      "execution_count": 11,
      "outputs": [
        {
          "output_type": "stream",
          "name": "stdout",
          "text": [
            "enter a number24\n",
            "Enter a number25\n",
            "25\n",
            "24\n"
          ]
        }
      ]
    },
    {
      "cell_type": "code",
      "source": [
        "a=int(input(\"Enter a number\"))\n",
        "b= int(input(\"Enter a number\"))\n",
        "print(\"before swapping\",a,b)\n",
        "if True:\n",
        "  a,b = b,a\n",
        "  print(\"after swapping\",a,b)"
      ],
      "metadata": {
        "colab": {
          "base_uri": "https://localhost:8080/"
        },
        "id": "0uXDcn0KUtXU",
        "outputId": "f6024373-843e-4993-be90-aa40094ec4c8"
      },
      "execution_count": 12,
      "outputs": [
        {
          "output_type": "stream",
          "name": "stdout",
          "text": [
            "Enter a number23\n",
            "Enter a number33\n",
            "before swapping 23 33\n",
            "after swapping 33 23\n"
          ]
        }
      ]
    }
  ]
}