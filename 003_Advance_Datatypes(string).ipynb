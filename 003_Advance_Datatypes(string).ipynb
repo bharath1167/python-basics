{
  "nbformat": 4,
  "nbformat_minor": 0,
  "metadata": {
    "colab": {
      "provenance": []
    },
    "kernelspec": {
      "name": "python3",
      "display_name": "Python 3"
    },
    "language_info": {
      "name": "python"
    }
  },
  "cells": [
    {
      "cell_type": "markdown",
      "source": [
        "# String( ) :\n",
        "*   A string is a sequence of characters.\n",
        "*   Enclosed in single quotes ('), double quotes (\"), or triple quotes ('''  ''') for multi-line text."
      ],
      "metadata": {
        "id": "kytp1CpJ7uUu"
      }
    },
    {
      "cell_type": "markdown",
      "source": [
        "# Indexing( )\n",
        "*   Indexing in Python strings allows you to access individual characters using their position.\n",
        "*   There are two types of indexing : positive and negative indexing."
      ],
      "metadata": {
        "id": "_UhhFtwW7zQl"
      }
    },
    {
      "cell_type": "markdown",
      "source": [
        "#  Slicing( )\n",
        "Slicing is used to extract a portion (substring) of a string."
      ],
      "metadata": {
        "id": "gE1-QpdJ77Bd"
      }
    },
    {
      "cell_type": "markdown",
      "source": [
        "# String Format:\n",
        "1) format( ) method:\n",
        "*   The format() method allows inserting variables into a string using {} placeholders, supporting both positional and named arguments.\n",
        "*   It provides advanced formatting options like alignment, padding, and number formatting (e.g., {:.2f} for two decimal places)."
      ],
      "metadata": {
        "id": "lHpdkUxF8BTe"
      }
    },
    {
      "cell_type": "markdown",
      "source": [
        "# String Methods:\n",
        "1) len( ):\n",
        "*   Returns the number of characters in a string, including spaces.\n",
        "*   It helps in finding the length of a string for loops, validations, and processing."
      ],
      "metadata": {
        "id": "OldKf1aL8JKH"
      }
    },
    {
      "cell_type": "code",
      "source": [
        "a = \"Booking start at 10PM\"\n",
        "len(a)"
      ],
      "metadata": {
        "colab": {
          "base_uri": "https://localhost:8080/"
        },
        "id": "iSei7WxD8QWm",
        "outputId": "acf0c1e1-a79c-4b09-c922-9a877c82d886"
      },
      "execution_count": 1,
      "outputs": [
        {
          "output_type": "execute_result",
          "data": {
            "text/plain": [
              "21"
            ]
          },
          "metadata": {},
          "execution_count": 1
        }
      ]
    },
    {
      "cell_type": "code",
      "source": [
        "b = \"hello\"\n",
        "len(b)"
      ],
      "metadata": {
        "colab": {
          "base_uri": "https://localhost:8080/"
        },
        "id": "i7Hcgp258YKt",
        "outputId": "31a25c6b-b104-4bea-c6b4-465a7f717a85"
      },
      "execution_count": 2,
      "outputs": [
        {
          "output_type": "execute_result",
          "data": {
            "text/plain": [
              "5"
            ]
          },
          "metadata": {},
          "execution_count": 2
        }
      ]
    },
    {
      "cell_type": "markdown",
      "source": [
        "2) upper( ):\n",
        "*   Converts all letters in a string to uppercase.\n",
        "*   It does not change the original string; it returns a new uppercase version."
      ],
      "metadata": {
        "id": "_4Lb22HE8c5y"
      }
    },
    {
      "cell_type": "code",
      "source": [
        "a = \"booking start at 10pm\"\n",
        "a.upper()"
      ],
      "metadata": {
        "colab": {
          "base_uri": "https://localhost:8080/",
          "height": 36
        },
        "id": "TXhtTzSQ8mtH",
        "outputId": "a39118f5-892c-4fce-f812-70524819e8c3"
      },
      "execution_count": 3,
      "outputs": [
        {
          "output_type": "execute_result",
          "data": {
            "text/plain": [
              "'BOOKING START AT 10PM'"
            ],
            "application/vnd.google.colaboratory.intrinsic+json": {
              "type": "string"
            }
          },
          "metadata": {},
          "execution_count": 3
        }
      ]
    },
    {
      "cell_type": "code",
      "source": [
        "print(\"hello_world\".upper())"
      ],
      "metadata": {
        "colab": {
          "base_uri": "https://localhost:8080/"
        },
        "id": "v7XHn6KM8rNH",
        "outputId": "4d4c1b06-80fa-4cad-81d3-e601414731f5"
      },
      "execution_count": 4,
      "outputs": [
        {
          "output_type": "stream",
          "name": "stdout",
          "text": [
            "HELLO_WORLD\n"
          ]
        }
      ]
    },
    {
      "cell_type": "markdown",
      "source": [
        "3) lower( )\n",
        "\n",
        "\n",
        "*   Converts all letters in a string to lowercase.\n",
        "*   It does not modify the original string but returns a new lowercase version."
      ],
      "metadata": {
        "id": "OxgoLo6Y8wZD"
      }
    },
    {
      "cell_type": "code",
      "source": [
        "a = \"BOOKING START AT 10PM\"\n",
        "a.lower()"
      ],
      "metadata": {
        "colab": {
          "base_uri": "https://localhost:8080/",
          "height": 36
        },
        "id": "jfeXbkJZ85_k",
        "outputId": "8d11aabc-285e-48e2-f932-b619224d591c"
      },
      "execution_count": 5,
      "outputs": [
        {
          "output_type": "execute_result",
          "data": {
            "text/plain": [
              "'booking start at 10pm'"
            ],
            "application/vnd.google.colaboratory.intrinsic+json": {
              "type": "string"
            }
          },
          "metadata": {},
          "execution_count": 5
        }
      ]
    },
    {
      "cell_type": "code",
      "source": [
        "print(\"HELLOWORLD\".lower())"
      ],
      "metadata": {
        "colab": {
          "base_uri": "https://localhost:8080/"
        },
        "id": "TLqF4HPd8-Fm",
        "outputId": "5aefc3f7-24cb-4878-8986-6396515fc06e"
      },
      "execution_count": 6,
      "outputs": [
        {
          "output_type": "stream",
          "name": "stdout",
          "text": [
            "helloworld\n"
          ]
        }
      ]
    },
    {
      "cell_type": "markdown",
      "source": [
        "4) count( ):\n",
        "\n",
        "\n",
        "*   Counts how many times a specific substring appears in a string.\n",
        "*   It is case-sensitive, [\"Hello\".count(\"h\") and \"Hello\".count(\"H\") give different results]."
      ],
      "metadata": {
        "id": "boRbTHp09Bpj"
      }
    },
    {
      "cell_type": "code",
      "source": [
        "a = \"hello hello Hello\"\n",
        "a.count('h')"
      ],
      "metadata": {
        "colab": {
          "base_uri": "https://localhost:8080/"
        },
        "id": "nsVoVDSG9G8A",
        "outputId": "80249577-7c59-46ba-9ea5-d179f04abbc3"
      },
      "execution_count": 7,
      "outputs": [
        {
          "output_type": "execute_result",
          "data": {
            "text/plain": [
              "2"
            ]
          },
          "metadata": {},
          "execution_count": 7
        }
      ]
    },
    {
      "cell_type": "code",
      "source": [
        "print(\"BOOKING START AT 10PM\".count('O'))"
      ],
      "metadata": {
        "colab": {
          "base_uri": "https://localhost:8080/"
        },
        "id": "ndwRMfey9Kst",
        "outputId": "c5ab6b4c-2ff0-402e-adf6-7366fb72f8ca"
      },
      "execution_count": 8,
      "outputs": [
        {
          "output_type": "stream",
          "name": "stdout",
          "text": [
            "2\n"
          ]
        }
      ]
    },
    {
      "cell_type": "markdown",
      "source": [
        "5) split( ):\n",
        "\n",
        "\n",
        "*   Breaks a string into a list of words based on a separator (default is space).\n",
        "*   It helps in processing sentences by dividing them into smaller parts."
      ],
      "metadata": {
        "id": "yDY_CYBk9QhS"
      }
    },
    {
      "cell_type": "code",
      "source": [
        "a = \"BOOKING START AT 10PM\"\n",
        "a.split()"
      ],
      "metadata": {
        "colab": {
          "base_uri": "https://localhost:8080/"
        },
        "id": "AOOK59ye9VuC",
        "outputId": "e9109860-0dd2-4ce4-f3c1-febd0eb6c319"
      },
      "execution_count": 9,
      "outputs": [
        {
          "output_type": "execute_result",
          "data": {
            "text/plain": [
              "['BOOKING', 'START', 'AT', '10PM']"
            ]
          },
          "metadata": {},
          "execution_count": 9
        }
      ]
    },
    {
      "cell_type": "code",
      "source": [
        "print(\"BOOKING START AT 10PM\".split())"
      ],
      "metadata": {
        "colab": {
          "base_uri": "https://localhost:8080/"
        },
        "id": "-AWHQEOK9Z4d",
        "outputId": "2c953263-e57b-4c69-e9b2-53eeb57f2462"
      },
      "execution_count": 10,
      "outputs": [
        {
          "output_type": "stream",
          "name": "stdout",
          "text": [
            "['BOOKING', 'START', 'AT', '10PM']\n"
          ]
        }
      ]
    },
    {
      "cell_type": "markdown",
      "source": [
        "6) strip( ):\n",
        "\n",
        "\n",
        "*   Removes spaces (or specified characters) from the beginning and end of a string.\n",
        "*   It does not change the original string but returns a new trimmed version."
      ],
      "metadata": {
        "id": "V1r-VOW_9ecI"
      }
    },
    {
      "cell_type": "code",
      "source": [
        "a = \"  BOOKING START AT 10PM  \"\n",
        "a.strip()"
      ],
      "metadata": {
        "colab": {
          "base_uri": "https://localhost:8080/",
          "height": 36
        },
        "id": "mVwDTxZe9mcI",
        "outputId": "b950b3bb-c4f3-4837-8a71-c9da837f0f94"
      },
      "execution_count": 11,
      "outputs": [
        {
          "output_type": "execute_result",
          "data": {
            "text/plain": [
              "'BOOKING START AT 10PM'"
            ],
            "application/vnd.google.colaboratory.intrinsic+json": {
              "type": "string"
            }
          },
          "metadata": {},
          "execution_count": 11
        }
      ]
    },
    {
      "cell_type": "markdown",
      "source": [
        "7) center( ):\n",
        "*   The center(width, fillchar) method in Python returns a new string that is centered within the given width, using the specified fill character (default is a space)."
      ],
      "metadata": {
        "id": "arMRL25w94Xx"
      }
    },
    {
      "cell_type": "code",
      "source": [
        "a = \"hello\"\n",
        "print(a.center(9, \"_\"))"
      ],
      "metadata": {
        "colab": {
          "base_uri": "https://localhost:8080/"
        },
        "id": "4lTsEi9R98KA",
        "outputId": "db29478b-10c4-4c4e-a7fa-1c734efa0148"
      },
      "execution_count": 12,
      "outputs": [
        {
          "output_type": "stream",
          "name": "stdout",
          "text": [
            "__hello__\n"
          ]
        }
      ]
    },
    {
      "cell_type": "markdown",
      "source": [
        "8) endswith( ):\n",
        "\n",
        "\n",
        "*   string ends with the specified suffix and returns True or False.\n",
        "*    It can also check within a specific range using optional start and end parameters."
      ],
      "metadata": {
        "id": "zvDvqpjK-Akk"
      }
    },
    {
      "cell_type": "code",
      "source": [
        "a = \"hello world\"\n",
        "print(a.endswith(\"world\"))"
      ],
      "metadata": {
        "colab": {
          "base_uri": "https://localhost:8080/"
        },
        "id": "ftemH0AL-FJS",
        "outputId": "59799d70-64cb-4c5a-82eb-2a8b5795d034"
      },
      "execution_count": 13,
      "outputs": [
        {
          "output_type": "stream",
          "name": "stdout",
          "text": [
            "True\n"
          ]
        }
      ]
    },
    {
      "cell_type": "code",
      "source": [
        "print(\"hello world\".endswith(\"d\"))"
      ],
      "metadata": {
        "colab": {
          "base_uri": "https://localhost:8080/"
        },
        "id": "_oNG59MS-ROB",
        "outputId": "e0074efb-8285-426d-cc31-b049373c354a"
      },
      "execution_count": 14,
      "outputs": [
        {
          "output_type": "stream",
          "name": "stdout",
          "text": [
            "True\n"
          ]
        }
      ]
    },
    {
      "cell_type": "markdown",
      "source": [
        "9) expandtabs():\n",
        "\n",
        "\n",
        "*   Replaces tab characters (\\t) in a string with spaces.\n",
        "*   The tabsize parameter (default is 8) specifies the number of spaces per tab."
      ],
      "metadata": {
        "id": "WsvtcvYV-U4p"
      }
    },
    {
      "cell_type": "code",
      "source": [
        "a = \"Hello\\tWorld\"\n",
        "print(a.expandtabs(4))"
      ],
      "metadata": {
        "colab": {
          "base_uri": "https://localhost:8080/"
        },
        "id": "SooJKMvg-ZLG",
        "outputId": "e22d4822-78de-44f3-c917-840c9d8273f5"
      },
      "execution_count": 15,
      "outputs": [
        {
          "output_type": "stream",
          "name": "stdout",
          "text": [
            "Hello   World\n"
          ]
        }
      ]
    },
    {
      "cell_type": "code",
      "source": [
        "print(\"Hello\\tWorld\".expandtabs(4))"
      ],
      "metadata": {
        "colab": {
          "base_uri": "https://localhost:8080/"
        },
        "id": "3jDXRdJ_-ddW",
        "outputId": "7f6e018c-dee7-484e-9634-25fe7fa02b34"
      },
      "execution_count": 16,
      "outputs": [
        {
          "output_type": "stream",
          "name": "stdout",
          "text": [
            "Hello   World\n"
          ]
        }
      ]
    }
  ]
}