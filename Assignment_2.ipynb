{
  "nbformat": 4,
  "nbformat_minor": 0,
  "metadata": {
    "colab": {
      "provenance": []
    },
    "kernelspec": {
      "name": "python3",
      "display_name": "Python 3"
    },
    "language_info": {
      "name": "python"
    }
  },
  "cells": [
    {
      "cell_type": "code",
      "execution_count": null,
      "metadata": {
        "id": "VRwW7xNlhOUe"
      },
      "outputs": [],
      "source": [
        "Data Type:\n",
        "          A data type is a set of values and the operations that can be performed on them.it is a type of data a variable can store\n",
        "\n",
        "\n"
      ]
    },
    {
      "cell_type": "code",
      "source": [
        "Basic data types:\n",
        "\n",
        "Integer:The integer datatype is used to store the integer numbers\n",
        "\n",
        "          ex:\n",
        "             int a=9;\n",
        "             int b=-9;\n",
        "             int c=89U;\n",
        "             long int d=9998L;\n",
        "\n",
        "Float:float data type is used to store floating-point values.\n",
        "          ex:\n",
        "             float a=9.0;\n",
        "             float b=2.5;\n",
        "             float c=2E-4F;\n",
        "\n",
        "Complex:it is a combination of real number with imaginary number\n",
        "           ex:\n",
        "              z=4+1j\n",
        "              y=6+3j\n",
        "              q=4+6j\n",
        "              x=3+2j\n",
        "              w=1+8j\n",
        "              a=2+7j\n",
        "\n",
        "boolean:a data type that has two possible values, true or false\n",
        "          ex:\n",
        "              bool a=true;\n",
        "              bool b=false;\n",
        "              bool c=yes;"
      ],
      "metadata": {
        "id": "KFdblZqMRu4s"
      },
      "execution_count": null,
      "outputs": []
    },
    {
      "cell_type": "code",
      "source": [
        "Type conversion:it is the process of changing a value from one data type to another"
      ],
      "metadata": {
        "id": "G-OHY6KxXEws"
      },
      "execution_count": null,
      "outputs": []
    }
  ]
}